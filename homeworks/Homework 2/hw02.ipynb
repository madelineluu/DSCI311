{
 "cells": [
  {
   "cell_type": "code",
   "execution_count": 1,
   "metadata": {
    "deletable": true,
    "editable": true
   },
   "outputs": [],
   "source": [
    "# Initialize Otter\n",
    "import otter \n",
    "grader = otter.Notebook()"
   ]
  },
  {
   "cell_type": "markdown",
   "metadata": {
    "nbgrader": {
     "grade": false,
     "grade_id": "title-cell",
     "locked": true,
     "schema_version": 2,
     "solution": false
    }
   },
   "source": [
    "## Homework 2: Pandas Review"
   ]
  },
  {
   "cell_type": "markdown",
   "metadata": {},
   "source": [
    "**This assignment is due Tuesday, October 14th at 11:59 PM.**"
   ]
  },
  {
   "cell_type": "markdown",
   "metadata": {},
   "source": [
    "### Collaboration Policy\n",
    "\n",
    "Data science is a collaborative activity. While you may talk with others about the labs, we ask that you **write your solutions individually**. If you do discuss the assignments with others please **include their names** below. (That's a good way to learn your classmates' names.)"
   ]
  },
  {
   "cell_type": "markdown",
   "metadata": {},
   "source": [
    "**Collaborators**: *list collaborators here*"
   ]
  },
  {
   "cell_type": "markdown",
   "metadata": {
    "nbgrader": {
     "grade": false,
     "grade_id": "outline-cell",
     "locked": true,
     "schema_version": 2,
     "solution": false
    }
   },
   "source": [
    "[Pandas](https://pandas.pydata.org/) is one of the most widely used Python libraries in data science. In this lab, you will review the commonly used data wrangling operations/tools in Pandas. We aim to give you familiarity with:\n",
    "\n",
    "* Creating dataframes\n",
    "* Slicing data frames (i.e. selecting rows and columns)\n",
    "* Filtering data (using boolean arrays)\n",
    "* Split-Apply-Combine operations with `.groupby`\n",
    "* Joining data with `merge`\n",
    "\n",
    "In this lab you are going to use several pandas methods, such as `drop` and `loc`. You may enter `help(method_name)` to see helpful documentation for that method. If you are still familar with the `datascience` library used in DSCI 101/102, the conversion reference notebook included with the assignment might serve useful. "
   ]
  },
  {
   "cell_type": "markdown",
   "metadata": {
    "nbgrader": {
     "grade": false,
     "grade_id": "cell-03ce8b2a12c5589d",
     "locked": true,
     "schema_version": 2,
     "solution": false
    }
   },
   "source": [
    "**Note**: The Pandas interface is notoriously confusing, and the documentation is not consistently great. Throughout the semester, you will have to search through Pandas documentation and experiment, but remember it is part of the learning experience and will help shape you as a data scientist!"
   ]
  },
  {
   "cell_type": "code",
   "execution_count": 2,
   "metadata": {
    "nbgrader": {
     "grade": false,
     "grade_id": "imports",
     "locked": true,
     "schema_version": 2,
     "solution": false
    },
    "scrolled": true
   },
   "outputs": [],
   "source": [
    "import numpy as np\n",
    "import matplotlib.pyplot as plt\n",
    "import seaborn as sns\n",
    "import pandas as pd"
   ]
  },
  {
   "cell_type": "markdown",
   "metadata": {
    "nbgrader": {
     "grade": false,
     "grade_id": "basic_intro",
     "locked": true,
     "schema_version": 2,
     "solution": false
    }
   },
   "source": [
    "## Section 1: Creating DataFrames & Basic Manipulations\n",
    "\n",
    "A [dataframe](http://pandas.pydata.org/pandas-docs/stable/dsintro.html#dataframe) is a table in which each column has a type; there is an index over the columns (typically string labels) and an index over the rows (typically ordinal numbers).\n",
    "\n",
    "The [docs](https://pandas.pydata.org/pandas-docs/stable/generated/pandas.DataFrame.html) for the pandas `DataFrame` class  provide at least two syntaxes to create a data frame."
   ]
  },
  {
   "cell_type": "markdown",
   "metadata": {
    "nbgrader": {
     "grade": false,
     "grade_id": "basic_method1",
     "locked": true,
     "schema_version": 2,
     "solution": false
    }
   },
   "source": [
    "**Syntax 1: ** You can create a data frame by specifying the columns and values using a dictionary as shown below. \n",
    "\n",
    "The keys of the dictionary are the column names, and the values of the dictionary are lists containing the row entries."
   ]
  },
  {
   "cell_type": "code",
   "execution_count": 3,
   "metadata": {
    "nbgrader": {
     "grade": false,
     "grade_id": "basic_method1_code",
     "locked": true,
     "schema_version": 2,
     "solution": false
    }
   },
   "outputs": [
    {
     "data": {
      "text/html": [
       "<div>\n",
       "<style scoped>\n",
       "    .dataframe tbody tr th:only-of-type {\n",
       "        vertical-align: middle;\n",
       "    }\n",
       "\n",
       "    .dataframe tbody tr th {\n",
       "        vertical-align: top;\n",
       "    }\n",
       "\n",
       "    .dataframe thead th {\n",
       "        text-align: right;\n",
       "    }\n",
       "</style>\n",
       "<table border=\"1\" class=\"dataframe\">\n",
       "  <thead>\n",
       "    <tr style=\"text-align: right;\">\n",
       "      <th></th>\n",
       "      <th>fruit</th>\n",
       "      <th>color</th>\n",
       "    </tr>\n",
       "  </thead>\n",
       "  <tbody>\n",
       "    <tr>\n",
       "      <th>0</th>\n",
       "      <td>apple</td>\n",
       "      <td>red</td>\n",
       "    </tr>\n",
       "    <tr>\n",
       "      <th>1</th>\n",
       "      <td>orange</td>\n",
       "      <td>orange</td>\n",
       "    </tr>\n",
       "    <tr>\n",
       "      <th>2</th>\n",
       "      <td>banana</td>\n",
       "      <td>yellow</td>\n",
       "    </tr>\n",
       "    <tr>\n",
       "      <th>3</th>\n",
       "      <td>raspberry</td>\n",
       "      <td>pink</td>\n",
       "    </tr>\n",
       "  </tbody>\n",
       "</table>\n",
       "</div>"
      ],
      "text/plain": [
       "       fruit   color\n",
       "0      apple     red\n",
       "1     orange  orange\n",
       "2     banana  yellow\n",
       "3  raspberry    pink"
      ]
     },
     "execution_count": 3,
     "metadata": {},
     "output_type": "execute_result"
    }
   ],
   "source": [
    "fruit_info = pd.DataFrame(\n",
    "    data={'fruit': ['apple', 'orange', 'banana', 'raspberry'],\n",
    "          'color': ['red', 'orange', 'yellow', 'pink']\n",
    "          })\n",
    "fruit_info"
   ]
  },
  {
   "cell_type": "markdown",
   "metadata": {
    "nbgrader": {
     "grade": false,
     "grade_id": "basic_method2",
     "locked": true,
     "schema_version": 2,
     "solution": false
    }
   },
   "source": [
    "**Syntax 2: ** You can also define a dataframe by specifying the rows like below. \n",
    "\n",
    "Each row corresponds to a distinct tuple, and the columns are specified separately."
   ]
  },
  {
   "cell_type": "code",
   "execution_count": 4,
   "metadata": {
    "nbgrader": {
     "grade": false,
     "grade_id": "basic_method2_code",
     "locked": true,
     "schema_version": 2,
     "solution": false
    }
   },
   "outputs": [
    {
     "data": {
      "text/html": [
       "<div>\n",
       "<style scoped>\n",
       "    .dataframe tbody tr th:only-of-type {\n",
       "        vertical-align: middle;\n",
       "    }\n",
       "\n",
       "    .dataframe tbody tr th {\n",
       "        vertical-align: top;\n",
       "    }\n",
       "\n",
       "    .dataframe thead th {\n",
       "        text-align: right;\n",
       "    }\n",
       "</style>\n",
       "<table border=\"1\" class=\"dataframe\">\n",
       "  <thead>\n",
       "    <tr style=\"text-align: right;\">\n",
       "      <th></th>\n",
       "      <th>color</th>\n",
       "      <th>fruit</th>\n",
       "    </tr>\n",
       "  </thead>\n",
       "  <tbody>\n",
       "    <tr>\n",
       "      <th>0</th>\n",
       "      <td>red</td>\n",
       "      <td>apple</td>\n",
       "    </tr>\n",
       "    <tr>\n",
       "      <th>1</th>\n",
       "      <td>orange</td>\n",
       "      <td>orange</td>\n",
       "    </tr>\n",
       "    <tr>\n",
       "      <th>2</th>\n",
       "      <td>yellow</td>\n",
       "      <td>banana</td>\n",
       "    </tr>\n",
       "    <tr>\n",
       "      <th>3</th>\n",
       "      <td>pink</td>\n",
       "      <td>raspberry</td>\n",
       "    </tr>\n",
       "  </tbody>\n",
       "</table>\n",
       "</div>"
      ],
      "text/plain": [
       "    color      fruit\n",
       "0     red      apple\n",
       "1  orange     orange\n",
       "2  yellow     banana\n",
       "3    pink  raspberry"
      ]
     },
     "execution_count": 4,
     "metadata": {},
     "output_type": "execute_result"
    }
   ],
   "source": [
    "fruit_info2 = pd.DataFrame(\n",
    "    [(\"red\", \"apple\"), (\"orange\", \"orange\"), (\"yellow\", \"banana\"),\n",
    "     (\"pink\", \"raspberry\")], \n",
    "    columns = [\"color\", \"fruit\"])\n",
    "fruit_info2"
   ]
  },
  {
   "cell_type": "markdown",
   "metadata": {
    "nbgrader": {
     "grade": false,
     "grade_id": "basic_shape",
     "locked": true,
     "schema_version": 2,
     "solution": false
    }
   },
   "source": [
    "You can obtain the dimensions of a dataframe by using the shape attribute `dataframe.shape`."
   ]
  },
  {
   "cell_type": "code",
   "execution_count": 5,
   "metadata": {
    "nbgrader": {
     "grade": false,
     "grade_id": "basic_shape_code",
     "locked": true,
     "schema_version": 2,
     "solution": false
    }
   },
   "outputs": [
    {
     "data": {
      "text/plain": [
       "(4, 2)"
      ]
     },
     "execution_count": 5,
     "metadata": {},
     "output_type": "execute_result"
    }
   ],
   "source": [
    "fruit_info.shape"
   ]
  },
  {
   "cell_type": "markdown",
   "metadata": {},
   "source": [
    "You can also convert the entire dataframe into a two-dimensional numpy array."
   ]
  },
  {
   "cell_type": "code",
   "execution_count": 6,
   "metadata": {},
   "outputs": [
    {
     "data": {
      "text/plain": [
       "array([['apple', 'red'],\n",
       "       ['orange', 'orange'],\n",
       "       ['banana', 'yellow'],\n",
       "       ['raspberry', 'pink']], dtype=object)"
      ]
     },
     "execution_count": 6,
     "metadata": {},
     "output_type": "execute_result"
    }
   ],
   "source": [
    "fruit_info.values"
   ]
  },
  {
   "cell_type": "markdown",
   "metadata": {
    "deletable": true,
    "editable": true,
    "nbgrader": {
     "grade": false,
     "grade_id": "q1",
     "locked": true,
     "schema_version": 2,
     "solution": false
    }
   },
   "source": [
    "### Question 1.1\n",
    "\n",
    "For a DataFrame `d`, you can add a column with `d['new column name'] = ...` and assign a list or array of values to the column. Add a column of integers containing 1, 2, 3, and 4 called `rank1` to the `fruit_info` table which expresses your personal preference about the taste ordering for each fruit (1 is tastiest; 4 is least tasty). "
   ]
  },
  {
   "cell_type": "code",
   "execution_count": 7,
   "metadata": {
    "nbgrader": {
     "grade": false,
     "grade_id": "q1_answer",
     "locked": false,
     "schema_version": 2,
     "solution": true
    },
    "tags": [
     "solution"
    ]
   },
   "outputs": [
    {
     "data": {
      "text/html": [
       "<div>\n",
       "<style scoped>\n",
       "    .dataframe tbody tr th:only-of-type {\n",
       "        vertical-align: middle;\n",
       "    }\n",
       "\n",
       "    .dataframe tbody tr th {\n",
       "        vertical-align: top;\n",
       "    }\n",
       "\n",
       "    .dataframe thead th {\n",
       "        text-align: right;\n",
       "    }\n",
       "</style>\n",
       "<table border=\"1\" class=\"dataframe\">\n",
       "  <thead>\n",
       "    <tr style=\"text-align: right;\">\n",
       "      <th></th>\n",
       "      <th>fruit</th>\n",
       "      <th>color</th>\n",
       "      <th>rank1</th>\n",
       "    </tr>\n",
       "  </thead>\n",
       "  <tbody>\n",
       "    <tr>\n",
       "      <th>0</th>\n",
       "      <td>apple</td>\n",
       "      <td>red</td>\n",
       "      <td>1</td>\n",
       "    </tr>\n",
       "    <tr>\n",
       "      <th>1</th>\n",
       "      <td>orange</td>\n",
       "      <td>orange</td>\n",
       "      <td>2</td>\n",
       "    </tr>\n",
       "    <tr>\n",
       "      <th>2</th>\n",
       "      <td>banana</td>\n",
       "      <td>yellow</td>\n",
       "      <td>3</td>\n",
       "    </tr>\n",
       "    <tr>\n",
       "      <th>3</th>\n",
       "      <td>raspberry</td>\n",
       "      <td>pink</td>\n",
       "      <td>4</td>\n",
       "    </tr>\n",
       "  </tbody>\n",
       "</table>\n",
       "</div>"
      ],
      "text/plain": [
       "       fruit   color  rank1\n",
       "0      apple     red      1\n",
       "1     orange  orange      2\n",
       "2     banana  yellow      3\n",
       "3  raspberry    pink      4"
      ]
     },
     "execution_count": 7,
     "metadata": {},
     "output_type": "execute_result"
    }
   ],
   "source": [
    "fruit_info['rank1'] = [1, 2, 3, 4]\n",
    "fruit_info"
   ]
  },
  {
   "cell_type": "code",
   "execution_count": 8,
   "metadata": {
    "deletable": true,
    "editable": true
   },
   "outputs": [
    {
     "data": {
      "text/html": [
       "<p><strong><pre style='display: inline;'>q1_1</pre></strong> passed! 🚀</p>"
      ],
      "text/plain": [
       "q1_1 results: All test cases passed!"
      ]
     },
     "execution_count": 8,
     "metadata": {},
     "output_type": "execute_result"
    }
   ],
   "source": [
    "grader.check(\"q1_1\")"
   ]
  },
  {
   "cell_type": "markdown",
   "metadata": {
    "deletable": true,
    "editable": true,
    "nbgrader": {
     "grade": false,
     "grade_id": "q2",
     "locked": true,
     "schema_version": 2,
     "solution": false
    }
   },
   "source": [
    "### Question 1.2\n",
    "\n",
    "Use the `.drop()` method to [drop](https://pandas.pydata.org/pandas-docs/stable/generated/pandas.DataFrame.drop.html) the `rank1` column you created. (Make sure to use the `axis` parameter correctly.) Note that `drop` does not change a table, but instead returns a new table with fewer columns or rows unless you set the optional `inplace` parameter."
   ]
  },
  {
   "cell_type": "code",
   "execution_count": 9,
   "metadata": {
    "nbgrader": {
     "grade": false,
     "grade_id": "q2_answer",
     "locked": false,
     "schema_version": 2,
     "solution": true
    },
    "tags": [
     "solution"
    ]
   },
   "outputs": [
    {
     "data": {
      "text/html": [
       "<div>\n",
       "<style scoped>\n",
       "    .dataframe tbody tr th:only-of-type {\n",
       "        vertical-align: middle;\n",
       "    }\n",
       "\n",
       "    .dataframe tbody tr th {\n",
       "        vertical-align: top;\n",
       "    }\n",
       "\n",
       "    .dataframe thead th {\n",
       "        text-align: right;\n",
       "    }\n",
       "</style>\n",
       "<table border=\"1\" class=\"dataframe\">\n",
       "  <thead>\n",
       "    <tr style=\"text-align: right;\">\n",
       "      <th></th>\n",
       "      <th>fruit</th>\n",
       "      <th>color</th>\n",
       "    </tr>\n",
       "  </thead>\n",
       "  <tbody>\n",
       "    <tr>\n",
       "      <th>0</th>\n",
       "      <td>apple</td>\n",
       "      <td>red</td>\n",
       "    </tr>\n",
       "    <tr>\n",
       "      <th>1</th>\n",
       "      <td>orange</td>\n",
       "      <td>orange</td>\n",
       "    </tr>\n",
       "    <tr>\n",
       "      <th>2</th>\n",
       "      <td>banana</td>\n",
       "      <td>yellow</td>\n",
       "    </tr>\n",
       "    <tr>\n",
       "      <th>3</th>\n",
       "      <td>raspberry</td>\n",
       "      <td>pink</td>\n",
       "    </tr>\n",
       "  </tbody>\n",
       "</table>\n",
       "</div>"
      ],
      "text/plain": [
       "       fruit   color\n",
       "0      apple     red\n",
       "1     orange  orange\n",
       "2     banana  yellow\n",
       "3  raspberry    pink"
      ]
     },
     "execution_count": 9,
     "metadata": {},
     "output_type": "execute_result"
    }
   ],
   "source": [
    "fruit_info_original = fruit_info.drop('rank1', axis=1)\n",
    "fruit_info_original"
   ]
  },
  {
   "cell_type": "code",
   "execution_count": 10,
   "metadata": {
    "deletable": true,
    "editable": true
   },
   "outputs": [
    {
     "data": {
      "text/html": [
       "<p><strong><pre style='display: inline;'>q1_2</pre></strong> passed! 💯</p>"
      ],
      "text/plain": [
       "q1_2 results: All test cases passed!"
      ]
     },
     "execution_count": 10,
     "metadata": {},
     "output_type": "execute_result"
    }
   ],
   "source": [
    "grader.check(\"q1_2\")"
   ]
  },
  {
   "cell_type": "markdown",
   "metadata": {
    "deletable": true,
    "editable": true,
    "nbgrader": {
     "grade": false,
     "grade_id": "q3",
     "locked": true,
     "schema_version": 2,
     "solution": false
    }
   },
   "source": [
    "### Question 1.3a\n",
    "\n",
    "Use the `.rename()` method to [rename](https://pandas.pydata.org/pandas-docs/stable/generated/pandas.DataFrame.rename.html) the columns of `fruit_info_original` so they begin with capital letters. Set this new dataframe to `fruit_info_caps`."
   ]
  },
  {
   "cell_type": "code",
   "execution_count": 11,
   "metadata": {
    "nbgrader": {
     "grade": false,
     "grade_id": "q3_answer",
     "locked": false,
     "schema_version": 2,
     "solution": true
    },
    "tags": [
     "solution"
    ]
   },
   "outputs": [
    {
     "data": {
      "text/html": [
       "<div>\n",
       "<style scoped>\n",
       "    .dataframe tbody tr th:only-of-type {\n",
       "        vertical-align: middle;\n",
       "    }\n",
       "\n",
       "    .dataframe tbody tr th {\n",
       "        vertical-align: top;\n",
       "    }\n",
       "\n",
       "    .dataframe thead th {\n",
       "        text-align: right;\n",
       "    }\n",
       "</style>\n",
       "<table border=\"1\" class=\"dataframe\">\n",
       "  <thead>\n",
       "    <tr style=\"text-align: right;\">\n",
       "      <th></th>\n",
       "      <th>Fruit</th>\n",
       "      <th>Color</th>\n",
       "    </tr>\n",
       "  </thead>\n",
       "  <tbody>\n",
       "    <tr>\n",
       "      <th>0</th>\n",
       "      <td>apple</td>\n",
       "      <td>red</td>\n",
       "    </tr>\n",
       "    <tr>\n",
       "      <th>1</th>\n",
       "      <td>orange</td>\n",
       "      <td>orange</td>\n",
       "    </tr>\n",
       "    <tr>\n",
       "      <th>2</th>\n",
       "      <td>banana</td>\n",
       "      <td>yellow</td>\n",
       "    </tr>\n",
       "    <tr>\n",
       "      <th>3</th>\n",
       "      <td>raspberry</td>\n",
       "      <td>pink</td>\n",
       "    </tr>\n",
       "  </tbody>\n",
       "</table>\n",
       "</div>"
      ],
      "text/plain": [
       "       Fruit   Color\n",
       "0      apple     red\n",
       "1     orange  orange\n",
       "2     banana  yellow\n",
       "3  raspberry    pink"
      ]
     },
     "execution_count": 11,
     "metadata": {},
     "output_type": "execute_result"
    }
   ],
   "source": [
    "fruit_info_caps = fruit_info_original.rename(columns={'fruit':'Fruit', 'color':'Color'})\n",
    "fruit_info_caps"
   ]
  },
  {
   "cell_type": "code",
   "execution_count": 12,
   "metadata": {
    "deletable": true,
    "editable": true
   },
   "outputs": [
    {
     "data": {
      "text/html": [
       "<p><strong><pre style='display: inline;'>q1_3a</pre></strong> passed! 💯</p>"
      ],
      "text/plain": [
       "q1_3a results: All test cases passed!"
      ]
     },
     "execution_count": 12,
     "metadata": {},
     "output_type": "execute_result"
    }
   ],
   "source": [
    "grader.check(\"q1_3a\")"
   ]
  },
  {
   "cell_type": "markdown",
   "metadata": {},
   "source": [
    "### Question 1.3b\n",
    "\n",
    "Oops! When we labeled the color of apples, we forgot to mention that our apple was a Granny Smith. Use `.replace` to convert the value of red to green in the \"Color\" column. "
   ]
  },
  {
   "cell_type": "code",
   "execution_count": 13,
   "metadata": {},
   "outputs": [
    {
     "data": {
      "text/html": [
       "<div>\n",
       "<style scoped>\n",
       "    .dataframe tbody tr th:only-of-type {\n",
       "        vertical-align: middle;\n",
       "    }\n",
       "\n",
       "    .dataframe tbody tr th {\n",
       "        vertical-align: top;\n",
       "    }\n",
       "\n",
       "    .dataframe thead th {\n",
       "        text-align: right;\n",
       "    }\n",
       "</style>\n",
       "<table border=\"1\" class=\"dataframe\">\n",
       "  <thead>\n",
       "    <tr style=\"text-align: right;\">\n",
       "      <th></th>\n",
       "      <th>Fruit</th>\n",
       "      <th>Color</th>\n",
       "    </tr>\n",
       "  </thead>\n",
       "  <tbody>\n",
       "    <tr>\n",
       "      <th>0</th>\n",
       "      <td>apple</td>\n",
       "      <td>green</td>\n",
       "    </tr>\n",
       "    <tr>\n",
       "      <th>1</th>\n",
       "      <td>orange</td>\n",
       "      <td>orange</td>\n",
       "    </tr>\n",
       "    <tr>\n",
       "      <th>2</th>\n",
       "      <td>banana</td>\n",
       "      <td>yellow</td>\n",
       "    </tr>\n",
       "    <tr>\n",
       "      <th>3</th>\n",
       "      <td>raspberry</td>\n",
       "      <td>pink</td>\n",
       "    </tr>\n",
       "  </tbody>\n",
       "</table>\n",
       "</div>"
      ],
      "text/plain": [
       "       Fruit   Color\n",
       "0      apple   green\n",
       "1     orange  orange\n",
       "2     banana  yellow\n",
       "3  raspberry    pink"
      ]
     },
     "execution_count": 13,
     "metadata": {},
     "output_type": "execute_result"
    }
   ],
   "source": [
    "fruit_info_caps = fruit_info_caps.replace('red','green')\n",
    "fruit_info_caps"
   ]
  },
  {
   "cell_type": "code",
   "execution_count": 14,
   "metadata": {},
   "outputs": [
    {
     "data": {
      "text/html": [
       "<p><strong><pre style='display: inline;'>q1_3b</pre></strong> passed! ✨</p>"
      ],
      "text/plain": [
       "q1_3b results: All test cases passed!"
      ]
     },
     "execution_count": 14,
     "metadata": {},
     "output_type": "execute_result"
    }
   ],
   "source": [
    "grader.check(\"q1_3b\")"
   ]
  },
  {
   "cell_type": "markdown",
   "metadata": {
    "nbgrader": {
     "grade": false,
     "grade_id": "babyname_dataset",
     "locked": true,
     "schema_version": 2,
     "solution": false
    }
   },
   "source": [
    "### Babyname dataset\n",
    "Now that we have learned the basics, let's move on to the babynames dataset. The babynames dataset contains a record of the given names of babies born in the United States each year.\n",
    "\n",
    "First let's run the following cells to build the dataframe `baby_names`. The cell below builds a dataframe from a .zip file. There should be a total of 6028151 records. If written to a .csv, these data would be significantly larger than .zip file (which is already fairly large)\n",
    "\n",
    "This cells builds the full `baby_names` DataFrame. It first builds one dataframe per state, because that's how the data are stored in the zip file. Here is documentation for [pd.concat](https://pandas.pydata.org/pandas-docs/version/0.22/generated/pandas.concat.html) if you want to know more about its functionality. "
   ]
  },
  {
   "cell_type": "code",
   "execution_count": 15,
   "metadata": {},
   "outputs": [],
   "source": [
    "import zipfile\n",
    "zf = zipfile.ZipFile(\"./data/namesbystate.zip\", 'r')\n",
    "\n",
    "column_labels = ['State', 'Sex', 'Year', 'Name', 'Count']\n",
    "\n",
    "def load_dataframe_from_zip(zf, f):\n",
    "    with zf.open(f) as fh: \n",
    "        return pd.read_csv(fh, header=None, names=column_labels)\n",
    "\n",
    "states = [\n",
    "    load_dataframe_from_zip(zf, f)\n",
    "    for f in sorted(zf.filelist, key=lambda x:x.filename) \n",
    "    if f.filename.endswith('.TXT')\n",
    "]\n",
    "\n",
    "baby_names = states[0]\n",
    "for state_df in states[1:]:\n",
    "    baby_names = pd.concat([baby_names, state_df])\n",
    "baby_names = baby_names.reset_index().iloc[:, 1:]"
   ]
  },
  {
   "cell_type": "code",
   "execution_count": 16,
   "metadata": {},
   "outputs": [
    {
     "data": {
      "text/plain": [
       "<zipfile.ZipFile filename='./data/namesbystate.zip' mode='r'>"
      ]
     },
     "execution_count": 16,
     "metadata": {},
     "output_type": "execute_result"
    }
   ],
   "source": [
    "zipfile.ZipFile(\"./data/namesbystate.zip\", 'r')"
   ]
  },
  {
   "cell_type": "code",
   "execution_count": 17,
   "metadata": {},
   "outputs": [
    {
     "data": {
      "text/plain": [
       "6408041"
      ]
     },
     "execution_count": 17,
     "metadata": {},
     "output_type": "execute_result"
    }
   ],
   "source": [
    "len(baby_names)"
   ]
  },
  {
   "cell_type": "code",
   "execution_count": 18,
   "metadata": {},
   "outputs": [
    {
     "data": {
      "text/html": [
       "<div>\n",
       "<style scoped>\n",
       "    .dataframe tbody tr th:only-of-type {\n",
       "        vertical-align: middle;\n",
       "    }\n",
       "\n",
       "    .dataframe tbody tr th {\n",
       "        vertical-align: top;\n",
       "    }\n",
       "\n",
       "    .dataframe thead th {\n",
       "        text-align: right;\n",
       "    }\n",
       "</style>\n",
       "<table border=\"1\" class=\"dataframe\">\n",
       "  <thead>\n",
       "    <tr style=\"text-align: right;\">\n",
       "      <th></th>\n",
       "      <th>State</th>\n",
       "      <th>Sex</th>\n",
       "      <th>Year</th>\n",
       "      <th>Name</th>\n",
       "      <th>Count</th>\n",
       "    </tr>\n",
       "  </thead>\n",
       "  <tbody>\n",
       "    <tr>\n",
       "      <th>0</th>\n",
       "      <td>AK</td>\n",
       "      <td>F</td>\n",
       "      <td>1910</td>\n",
       "      <td>Mary</td>\n",
       "      <td>14</td>\n",
       "    </tr>\n",
       "    <tr>\n",
       "      <th>1</th>\n",
       "      <td>AK</td>\n",
       "      <td>F</td>\n",
       "      <td>1910</td>\n",
       "      <td>Annie</td>\n",
       "      <td>12</td>\n",
       "    </tr>\n",
       "    <tr>\n",
       "      <th>2</th>\n",
       "      <td>AK</td>\n",
       "      <td>F</td>\n",
       "      <td>1910</td>\n",
       "      <td>Anna</td>\n",
       "      <td>10</td>\n",
       "    </tr>\n",
       "    <tr>\n",
       "      <th>3</th>\n",
       "      <td>AK</td>\n",
       "      <td>F</td>\n",
       "      <td>1910</td>\n",
       "      <td>Margaret</td>\n",
       "      <td>8</td>\n",
       "    </tr>\n",
       "    <tr>\n",
       "      <th>4</th>\n",
       "      <td>AK</td>\n",
       "      <td>F</td>\n",
       "      <td>1910</td>\n",
       "      <td>Helen</td>\n",
       "      <td>7</td>\n",
       "    </tr>\n",
       "  </tbody>\n",
       "</table>\n",
       "</div>"
      ],
      "text/plain": [
       "  State Sex  Year      Name  Count\n",
       "0    AK   F  1910      Mary     14\n",
       "1    AK   F  1910     Annie     12\n",
       "2    AK   F  1910      Anna     10\n",
       "3    AK   F  1910  Margaret      8\n",
       "4    AK   F  1910     Helen      7"
      ]
     },
     "execution_count": 18,
     "metadata": {},
     "output_type": "execute_result"
    }
   ],
   "source": [
    "baby_names.head()"
   ]
  },
  {
   "cell_type": "markdown",
   "metadata": {
    "nbgrader": {
     "grade": false,
     "grade_id": "slicing",
     "locked": true,
     "schema_version": 2,
     "solution": false
    }
   },
   "source": [
    "## Slicing Data Frames - selecting rows and columns\n"
   ]
  },
  {
   "cell_type": "markdown",
   "metadata": {
    "nbgrader": {
     "grade": false,
     "grade_id": "slicing_text",
     "locked": true,
     "schema_version": 2,
     "solution": false
    }
   },
   "source": [
    "### Selection Using Label/Index (using loc)\n",
    "\n",
    "**Column Selection** \n",
    "\n",
    "To select a column of a `DataFrame` by column label, the safest and fastest way is to use the `.loc` [method](https://pandas.pydata.org/pandas-docs/stable/generated/pandas.DataFrame.loc.html). General usage of `.loc` looks like `df.loc[rowname, colname]`. (Reminder that the colon `:` means \"everything.\")  For example, if we want the `color` column of the `ex` data frame, we would use: `ex.loc[:, 'color']`\n",
    "\n",
    "- You can also slice across columns. For example, `baby_names.loc[:, 'Name':]` would select the column `Name` and all columns after `Name`.\n",
    "\n",
    "- *Alternative:* While `.loc` is invaluable when writing production code (it is fast), it may be a little too verbose for interactive use. One recommended alternative is the `[]` method, which takes on the form `df['colname']`.\n",
    "\n",
    "**Row Selection**\n",
    "\n",
    "Similarly, if we want to select a row by its label, we can use the same `.loc` method. In this case, the \"label\" of each row refers to the index (ie. primary key) of the dataframe."
   ]
  },
  {
   "cell_type": "code",
   "execution_count": 19,
   "metadata": {
    "nbgrader": {
     "grade": false,
     "grade_id": "slicing_e1",
     "locked": true,
     "schema_version": 2,
     "solution": false
    }
   },
   "outputs": [
    {
     "data": {
      "text/plain": [
       "2        Anna\n",
       "3    Margaret\n",
       "4       Helen\n",
       "5       Elsie\n",
       "Name: Name, dtype: object"
      ]
     },
     "execution_count": 19,
     "metadata": {},
     "output_type": "execute_result"
    }
   ],
   "source": [
    "#Example:\n",
    "baby_names.loc[2:5, 'Name']"
   ]
  },
  {
   "cell_type": "code",
   "execution_count": 20,
   "metadata": {
    "nbgrader": {
     "grade": false,
     "grade_id": "slicing_e2",
     "locked": true,
     "schema_version": 2,
     "solution": false
    }
   },
   "outputs": [
    {
     "data": {
      "text/html": [
       "<div>\n",
       "<style scoped>\n",
       "    .dataframe tbody tr th:only-of-type {\n",
       "        vertical-align: middle;\n",
       "    }\n",
       "\n",
       "    .dataframe tbody tr th {\n",
       "        vertical-align: top;\n",
       "    }\n",
       "\n",
       "    .dataframe thead th {\n",
       "        text-align: right;\n",
       "    }\n",
       "</style>\n",
       "<table border=\"1\" class=\"dataframe\">\n",
       "  <thead>\n",
       "    <tr style=\"text-align: right;\">\n",
       "      <th></th>\n",
       "      <th>Name</th>\n",
       "    </tr>\n",
       "  </thead>\n",
       "  <tbody>\n",
       "    <tr>\n",
       "      <th>2</th>\n",
       "      <td>Anna</td>\n",
       "    </tr>\n",
       "    <tr>\n",
       "      <th>3</th>\n",
       "      <td>Margaret</td>\n",
       "    </tr>\n",
       "    <tr>\n",
       "      <th>4</th>\n",
       "      <td>Helen</td>\n",
       "    </tr>\n",
       "    <tr>\n",
       "      <th>5</th>\n",
       "      <td>Elsie</td>\n",
       "    </tr>\n",
       "  </tbody>\n",
       "</table>\n",
       "</div>"
      ],
      "text/plain": [
       "       Name\n",
       "2      Anna\n",
       "3  Margaret\n",
       "4     Helen\n",
       "5     Elsie"
      ]
     },
     "execution_count": 20,
     "metadata": {},
     "output_type": "execute_result"
    }
   ],
   "source": [
    "#Example:  Notice the difference between these two methods\n",
    "#Just passing in 'Name' returns a Series while ['Name'] returns a Dataframe\n",
    "baby_names.loc[2:5, ['Name']]"
   ]
  },
  {
   "cell_type": "markdown",
   "metadata": {
    "nbgrader": {
     "grade": false,
     "grade_id": "slicing_loc_iloc",
     "locked": true,
     "schema_version": 2,
     "solution": false
    }
   },
   "source": [
    "The `.loc` actually uses the Pandas row index rather than row id/position of rows in the dataframe to perform the selection. Also, notice that if you write `2:5` with `loc[]`, contrary to normal Python slicing functionality, the end index is included, so you get the row with index 5. \n"
   ]
  },
  {
   "cell_type": "markdown",
   "metadata": {},
   "source": [
    "### Selection using Integer location (using iloc)"
   ]
  },
  {
   "cell_type": "markdown",
   "metadata": {
    "nbgrader": {
     "grade": false,
     "grade_id": "cell-463dfc0b4ae2e39d",
     "locked": true,
     "schema_version": 2,
     "solution": false
    }
   },
   "source": [
    "`iloc[]` lets you slice the dataframe by row position and column position instead of by row index and column label (which is the case for `loc[]`). This is really the main difference between the 2 functions and it is **important** that you remember the difference and why you might want to use one over the other. In addition, with `iloc[]`, the end index is NOT included, like with normal Python slicing.\n",
    "\n",
    "As a mnemonic, remember that the i in `iloc` means \"integer\". \n",
    "\n",
    "Below, we have sorted the `baby_names` dataframe. Notice how the *position* of a row is not necessarily equal to the *index* of a row. For example, the first row is not necessarily the row associated with index 1. This distinction is important in understanding the different between `loc[]` and `iloc[]`."
   ]
  },
  {
   "cell_type": "code",
   "execution_count": 21,
   "metadata": {},
   "outputs": [
    {
     "data": {
      "text/html": [
       "<div>\n",
       "<style scoped>\n",
       "    .dataframe tbody tr th:only-of-type {\n",
       "        vertical-align: middle;\n",
       "    }\n",
       "\n",
       "    .dataframe tbody tr th {\n",
       "        vertical-align: top;\n",
       "    }\n",
       "\n",
       "    .dataframe thead th {\n",
       "        text-align: right;\n",
       "    }\n",
       "</style>\n",
       "<table border=\"1\" class=\"dataframe\">\n",
       "  <thead>\n",
       "    <tr style=\"text-align: right;\">\n",
       "      <th></th>\n",
       "      <th>State</th>\n",
       "      <th>Sex</th>\n",
       "      <th>Year</th>\n",
       "      <th>Name</th>\n",
       "      <th>Count</th>\n",
       "    </tr>\n",
       "  </thead>\n",
       "  <tbody>\n",
       "    <tr>\n",
       "      <th>4365811</th>\n",
       "      <td>NY</td>\n",
       "      <td>M</td>\n",
       "      <td>2013</td>\n",
       "      <td>Aaban</td>\n",
       "      <td>6</td>\n",
       "    </tr>\n",
       "    <tr>\n",
       "      <th>4367894</th>\n",
       "      <td>NY</td>\n",
       "      <td>M</td>\n",
       "      <td>2014</td>\n",
       "      <td>Aaban</td>\n",
       "      <td>6</td>\n",
       "    </tr>\n",
       "    <tr>\n",
       "      <th>4378195</th>\n",
       "      <td>NY</td>\n",
       "      <td>M</td>\n",
       "      <td>2019</td>\n",
       "      <td>Aadam</td>\n",
       "      <td>6</td>\n",
       "    </tr>\n",
       "    <tr>\n",
       "      <th>771544</th>\n",
       "      <td>CA</td>\n",
       "      <td>M</td>\n",
       "      <td>2009</td>\n",
       "      <td>Aadan</td>\n",
       "      <td>6</td>\n",
       "    </tr>\n",
       "    <tr>\n",
       "      <th>786429</th>\n",
       "      <td>CA</td>\n",
       "      <td>M</td>\n",
       "      <td>2014</td>\n",
       "      <td>Aadan</td>\n",
       "      <td>5</td>\n",
       "    </tr>\n",
       "  </tbody>\n",
       "</table>\n",
       "</div>"
      ],
      "text/plain": [
       "        State Sex  Year   Name  Count\n",
       "4365811    NY   M  2013  Aaban      6\n",
       "4367894    NY   M  2014  Aaban      6\n",
       "4378195    NY   M  2019  Aadam      6\n",
       "771544     CA   M  2009  Aadan      6\n",
       "786429     CA   M  2014  Aadan      5"
      ]
     },
     "execution_count": 21,
     "metadata": {},
     "output_type": "execute_result"
    }
   ],
   "source": [
    "sorted_baby_names = baby_names.sort_values(by=['Name'])\n",
    "sorted_baby_names.head()"
   ]
  },
  {
   "cell_type": "markdown",
   "metadata": {},
   "source": [
    "Here is an example of how we would get the 2nd, 3rd, and 4th rows with only the `Name` column of the `baby_names` dataframe using both `iloc[]` and `loc[]`. Observe the difference, especially after sorting `baby_names` by name."
   ]
  },
  {
   "cell_type": "code",
   "execution_count": 22,
   "metadata": {
    "nbgrader": {
     "grade": false,
     "grade_id": "cell-1292533181dbd2eb",
     "locked": true,
     "schema_version": 2,
     "solution": false
    }
   },
   "outputs": [
    {
     "data": {
      "text/plain": [
       "4367894    Aaban\n",
       "4378195    Aadam\n",
       "771544     Aadan\n",
       "Name: Name, dtype: object"
      ]
     },
     "execution_count": 22,
     "metadata": {},
     "output_type": "execute_result"
    }
   ],
   "source": [
    "sorted_baby_names.iloc[1:4, 3]"
   ]
  },
  {
   "cell_type": "markdown",
   "metadata": {},
   "source": [
    "Notice that using `loc[]` with 1:4 gives different results, since it selects using the *index*."
   ]
  },
  {
   "cell_type": "code",
   "execution_count": 23,
   "metadata": {
    "nbgrader": {
     "grade": false,
     "grade_id": "cell-31c9d32586d65565",
     "locked": true,
     "schema_version": 2,
     "solution": false
    }
   },
   "outputs": [
    {
     "data": {
      "text/plain": [
       "1          Annie\n",
       "4627738    Annie\n",
       "4222531    Annie\n",
       "2272090    Annie\n",
       "337368     Annie\n",
       "           ...  \n",
       "3267232    Helen\n",
       "1997702    Helen\n",
       "3302664    Helen\n",
       "6176186    Helen\n",
       "4          Helen\n",
       "Name: Name, Length: 2165783, dtype: object"
      ]
     },
     "execution_count": 23,
     "metadata": {},
     "output_type": "execute_result"
    }
   ],
   "source": [
    "sorted_baby_names.loc[1:4, \"Name\"]"
   ]
  },
  {
   "cell_type": "markdown",
   "metadata": {
    "nbgrader": {
     "grade": false,
     "grade_id": "cell-17ca8e630cf2d4bd",
     "locked": true,
     "schema_version": 2,
     "solution": false
    }
   },
   "source": [
    "Lastly, we can change the index of a dataframe using the `set_index` method."
   ]
  },
  {
   "cell_type": "code",
   "execution_count": 24,
   "metadata": {
    "nbgrader": {
     "grade": false,
     "grade_id": "slicing_e3",
     "locked": true,
     "schema_version": 2,
     "solution": false
    }
   },
   "outputs": [
    {
     "data": {
      "text/html": [
       "<div>\n",
       "<style scoped>\n",
       "    .dataframe tbody tr th:only-of-type {\n",
       "        vertical-align: middle;\n",
       "    }\n",
       "\n",
       "    .dataframe tbody tr th {\n",
       "        vertical-align: top;\n",
       "    }\n",
       "\n",
       "    .dataframe thead th {\n",
       "        text-align: right;\n",
       "    }\n",
       "</style>\n",
       "<table border=\"1\" class=\"dataframe\">\n",
       "  <thead>\n",
       "    <tr style=\"text-align: right;\">\n",
       "      <th></th>\n",
       "      <th>State</th>\n",
       "      <th>Sex</th>\n",
       "      <th>Year</th>\n",
       "      <th>Count</th>\n",
       "    </tr>\n",
       "    <tr>\n",
       "      <th>Name</th>\n",
       "      <th></th>\n",
       "      <th></th>\n",
       "      <th></th>\n",
       "      <th></th>\n",
       "    </tr>\n",
       "  </thead>\n",
       "  <tbody>\n",
       "    <tr>\n",
       "      <th>Mary</th>\n",
       "      <td>AK</td>\n",
       "      <td>F</td>\n",
       "      <td>1910</td>\n",
       "      <td>14</td>\n",
       "    </tr>\n",
       "    <tr>\n",
       "      <th>Annie</th>\n",
       "      <td>AK</td>\n",
       "      <td>F</td>\n",
       "      <td>1910</td>\n",
       "      <td>12</td>\n",
       "    </tr>\n",
       "    <tr>\n",
       "      <th>Anna</th>\n",
       "      <td>AK</td>\n",
       "      <td>F</td>\n",
       "      <td>1910</td>\n",
       "      <td>10</td>\n",
       "    </tr>\n",
       "    <tr>\n",
       "      <th>Margaret</th>\n",
       "      <td>AK</td>\n",
       "      <td>F</td>\n",
       "      <td>1910</td>\n",
       "      <td>8</td>\n",
       "    </tr>\n",
       "    <tr>\n",
       "      <th>Helen</th>\n",
       "      <td>AK</td>\n",
       "      <td>F</td>\n",
       "      <td>1910</td>\n",
       "      <td>7</td>\n",
       "    </tr>\n",
       "  </tbody>\n",
       "</table>\n",
       "</div>"
      ],
      "text/plain": [
       "         State Sex  Year  Count\n",
       "Name                           \n",
       "Mary        AK   F  1910     14\n",
       "Annie       AK   F  1910     12\n",
       "Anna        AK   F  1910     10\n",
       "Margaret    AK   F  1910      8\n",
       "Helen       AK   F  1910      7"
      ]
     },
     "execution_count": 24,
     "metadata": {},
     "output_type": "execute_result"
    }
   ],
   "source": [
    "#Example: We change the index from 0,1,2... to the Name column\n",
    "df = baby_names[:5].set_index(\"Name\") \n",
    "df"
   ]
  },
  {
   "cell_type": "markdown",
   "metadata": {
    "nbgrader": {
     "grade": false,
     "grade_id": "slicing_loc_index",
     "locked": true,
     "schema_version": 2,
     "solution": false
    }
   },
   "source": [
    "We can now lookup rows by name directly:"
   ]
  },
  {
   "cell_type": "code",
   "execution_count": 25,
   "metadata": {
    "nbgrader": {
     "grade": false,
     "grade_id": "slicing_loc_index_code",
     "locked": true,
     "schema_version": 2,
     "solution": false
    }
   },
   "outputs": [
    {
     "data": {
      "text/html": [
       "<div>\n",
       "<style scoped>\n",
       "    .dataframe tbody tr th:only-of-type {\n",
       "        vertical-align: middle;\n",
       "    }\n",
       "\n",
       "    .dataframe tbody tr th {\n",
       "        vertical-align: top;\n",
       "    }\n",
       "\n",
       "    .dataframe thead th {\n",
       "        text-align: right;\n",
       "    }\n",
       "</style>\n",
       "<table border=\"1\" class=\"dataframe\">\n",
       "  <thead>\n",
       "    <tr style=\"text-align: right;\">\n",
       "      <th></th>\n",
       "      <th>State</th>\n",
       "      <th>Sex</th>\n",
       "      <th>Year</th>\n",
       "      <th>Count</th>\n",
       "    </tr>\n",
       "    <tr>\n",
       "      <th>Name</th>\n",
       "      <th></th>\n",
       "      <th></th>\n",
       "      <th></th>\n",
       "      <th></th>\n",
       "    </tr>\n",
       "  </thead>\n",
       "  <tbody>\n",
       "    <tr>\n",
       "      <th>Mary</th>\n",
       "      <td>AK</td>\n",
       "      <td>F</td>\n",
       "      <td>1910</td>\n",
       "      <td>14</td>\n",
       "    </tr>\n",
       "    <tr>\n",
       "      <th>Anna</th>\n",
       "      <td>AK</td>\n",
       "      <td>F</td>\n",
       "      <td>1910</td>\n",
       "      <td>10</td>\n",
       "    </tr>\n",
       "  </tbody>\n",
       "</table>\n",
       "</div>"
      ],
      "text/plain": [
       "     State Sex  Year  Count\n",
       "Name                       \n",
       "Mary    AK   F  1910     14\n",
       "Anna    AK   F  1910     10"
      ]
     },
     "execution_count": 25,
     "metadata": {},
     "output_type": "execute_result"
    }
   ],
   "source": [
    "df.loc[['Mary', 'Anna'], :]"
   ]
  },
  {
   "cell_type": "markdown",
   "metadata": {
    "nbgrader": {
     "grade": false,
     "grade_id": "slicing_iloc",
     "locked": true,
     "schema_version": 2,
     "solution": false
    }
   },
   "source": [
    "However, if we still want to access rows by location we will need to use the integer loc (`iloc`) accessor:"
   ]
  },
  {
   "cell_type": "code",
   "execution_count": 26,
   "metadata": {
    "nbgrader": {
     "grade": false,
     "grade_id": "slicing_iloc_code",
     "locked": true,
     "schema_version": 2,
     "solution": false
    }
   },
   "outputs": [
    {
     "data": {
      "text/html": [
       "<div>\n",
       "<style scoped>\n",
       "    .dataframe tbody tr th:only-of-type {\n",
       "        vertical-align: middle;\n",
       "    }\n",
       "\n",
       "    .dataframe tbody tr th {\n",
       "        vertical-align: top;\n",
       "    }\n",
       "\n",
       "    .dataframe thead th {\n",
       "        text-align: right;\n",
       "    }\n",
       "</style>\n",
       "<table border=\"1\" class=\"dataframe\">\n",
       "  <thead>\n",
       "    <tr style=\"text-align: right;\">\n",
       "      <th></th>\n",
       "      <th>Year</th>\n",
       "    </tr>\n",
       "    <tr>\n",
       "      <th>Name</th>\n",
       "      <th></th>\n",
       "    </tr>\n",
       "  </thead>\n",
       "  <tbody>\n",
       "    <tr>\n",
       "      <th>Annie</th>\n",
       "      <td>1910</td>\n",
       "    </tr>\n",
       "    <tr>\n",
       "      <th>Anna</th>\n",
       "      <td>1910</td>\n",
       "    </tr>\n",
       "    <tr>\n",
       "      <th>Margaret</th>\n",
       "      <td>1910</td>\n",
       "    </tr>\n",
       "  </tbody>\n",
       "</table>\n",
       "</div>"
      ],
      "text/plain": [
       "          Year\n",
       "Name          \n",
       "Annie     1910\n",
       "Anna      1910\n",
       "Margaret  1910"
      ]
     },
     "execution_count": 26,
     "metadata": {},
     "output_type": "execute_result"
    }
   ],
   "source": [
    "#Example: \n",
    "#df.loc[2:5,\"Year\"] You can't do this\n",
    "df.iloc[1:4, 2:3]"
   ]
  },
  {
   "cell_type": "markdown",
   "metadata": {
    "deletable": true,
    "editable": true,
    "nbgrader": {
     "grade": false,
     "grade_id": "q4",
     "locked": true,
     "schema_version": 2,
     "solution": false
    }
   },
   "source": [
    "### Question 1.4\n",
    "\n",
    "Selecting multiple columns is easy.  You just need to supply a list of column names.  Select the `Name` and `Year` **in that order** from the `baby_names` table."
   ]
  },
  {
   "cell_type": "code",
   "execution_count": 27,
   "metadata": {
    "nbgrader": {
     "grade": false,
     "grade_id": "q4_answer",
     "locked": false,
     "schema_version": 2,
     "solution": true
    }
   },
   "outputs": [],
   "source": [
    "name_and_year = baby_names.loc[:,['Name', 'Year']]"
   ]
  },
  {
   "cell_type": "code",
   "execution_count": 28,
   "metadata": {
    "deletable": true,
    "editable": true,
    "scrolled": true
   },
   "outputs": [
    {
     "data": {
      "text/html": [
       "<p><strong><pre style='display: inline;'>q1_4</pre></strong> passed! ✨</p>"
      ],
      "text/plain": [
       "q1_4 results: All test cases passed!"
      ]
     },
     "execution_count": 28,
     "metadata": {},
     "output_type": "execute_result"
    }
   ],
   "source": [
    "grader.check(\"q1_4\")"
   ]
  },
  {
   "cell_type": "markdown",
   "metadata": {
    "nbgrader": {
     "grade": false,
     "grade_id": "q4_hint",
     "locked": true,
     "schema_version": 2,
     "solution": false
    }
   },
   "source": [
    "Note that `.loc[]` can be used to re-order the columns within a dataframe."
   ]
  },
  {
   "cell_type": "markdown",
   "metadata": {
    "nbgrader": {
     "grade": false,
     "grade_id": "filter_data",
     "locked": true,
     "schema_version": 2,
     "solution": false
    }
   },
   "source": [
    "## Filtering Data"
   ]
  },
  {
   "cell_type": "markdown",
   "metadata": {
    "nbgrader": {
     "grade": false,
     "grade_id": "filter_data_op",
     "locked": true,
     "schema_version": 2,
     "solution": false
    }
   },
   "source": [
    "### Filtering with boolean arrays\n",
    "\n",
    "Filtering is the process of removing unwanted material.  In your quest for cleaner data, you will undoubtedly filter your data at some point: whether it be for clearing up cases with missing values, for culling out fishy outliers, or for analyzing subgroups of your data set.  Note that compound expressions have to be grouped with parentheses. Example usage looks like `df[df['column name'] < 5]]`.\n",
    "\n",
    "For your reference, some commonly used comparison operators are given below.\n",
    "\n",
    "Symbol | Usage      | Meaning \n",
    "------ | ---------- | -------------------------------------\n",
    "==   | a == b   | Does a equal b?\n",
    "<=   | a <= b   | Is a less than or equal to b?\n",
    "&#62;=   | a >= b   | Is a greater than or equal to b?\n",
    "<    | a < b    | Is a less than b?\n",
    "&#62;    | a &#62; b    | Is a greater than b?\n",
    "~    | ~p       | Returns negation of p\n",
    "&#124; | p &#124; q | p OR q\n",
    "&    | p & q    | p AND q\n",
    "^  | p ^ q | p XOR q (exclusive or)"
   ]
  },
  {
   "cell_type": "markdown",
   "metadata": {
    "nbgrader": {
     "grade": false,
     "grade_id": "filter_ca",
     "locked": true,
     "schema_version": 2,
     "solution": false
    }
   },
   "source": [
    "In the following we construct the DataFrame containing only names registered in California"
   ]
  },
  {
   "cell_type": "code",
   "execution_count": 29,
   "metadata": {
    "nbgrader": {
     "grade": false,
     "grade_id": "filter_ca_code",
     "locked": true,
     "schema_version": 2,
     "solution": false
    }
   },
   "outputs": [],
   "source": [
    "ca = baby_names[baby_names['State'] == 'CA']"
   ]
  },
  {
   "cell_type": "markdown",
   "metadata": {
    "deletable": true,
    "editable": true,
    "nbgrader": {
     "grade": false,
     "grade_id": "q5a",
     "locked": true,
     "schema_version": 2,
     "solution": false
    }
   },
   "source": [
    "### Question 1.5\n",
    "Using a boolean array, select the names in Year 2000 (from `baby_names`) that have larger than 3000 counts. Keep all columns from the original `baby_names` dataframe.\n",
    "\n",
    "Note: Any time you use `p & q` to filter the dataframe, make sure to use `df[(df[p]) & (df[q])]` or `df.loc[(df[p]) & (df[q])]`. That is, make sure to wrap conditions with parentheses.\n",
    "\n",
    "**Remember** that both slicing and `loc` will achieve the same result, it is just that the former is a little more idiomatic (readable) while the latter `loc` is typically faster in production. You are free to use whichever one you would like."
   ]
  },
  {
   "cell_type": "code",
   "execution_count": 30,
   "metadata": {
    "nbgrader": {
     "grade": false,
     "grade_id": "q5a_answer",
     "locked": false,
     "schema_version": 2,
     "solution": true
    }
   },
   "outputs": [
    {
     "data": {
      "text/html": [
       "<div>\n",
       "<style scoped>\n",
       "    .dataframe tbody tr th:only-of-type {\n",
       "        vertical-align: middle;\n",
       "    }\n",
       "\n",
       "    .dataframe tbody tr th {\n",
       "        vertical-align: top;\n",
       "    }\n",
       "\n",
       "    .dataframe thead th {\n",
       "        text-align: right;\n",
       "    }\n",
       "</style>\n",
       "<table border=\"1\" class=\"dataframe\">\n",
       "  <thead>\n",
       "    <tr style=\"text-align: right;\">\n",
       "      <th></th>\n",
       "      <th>State</th>\n",
       "      <th>Sex</th>\n",
       "      <th>Year</th>\n",
       "      <th>Name</th>\n",
       "      <th>Count</th>\n",
       "    </tr>\n",
       "  </thead>\n",
       "  <tbody>\n",
       "    <tr>\n",
       "      <th>744864</th>\n",
       "      <td>CA</td>\n",
       "      <td>M</td>\n",
       "      <td>2000</td>\n",
       "      <td>Daniel</td>\n",
       "      <td>4342</td>\n",
       "    </tr>\n",
       "    <tr>\n",
       "      <th>744865</th>\n",
       "      <td>CA</td>\n",
       "      <td>M</td>\n",
       "      <td>2000</td>\n",
       "      <td>Anthony</td>\n",
       "      <td>3840</td>\n",
       "    </tr>\n",
       "    <tr>\n",
       "      <th>744866</th>\n",
       "      <td>CA</td>\n",
       "      <td>M</td>\n",
       "      <td>2000</td>\n",
       "      <td>Jose</td>\n",
       "      <td>3804</td>\n",
       "    </tr>\n",
       "    <tr>\n",
       "      <th>744867</th>\n",
       "      <td>CA</td>\n",
       "      <td>M</td>\n",
       "      <td>2000</td>\n",
       "      <td>Andrew</td>\n",
       "      <td>3600</td>\n",
       "    </tr>\n",
       "    <tr>\n",
       "      <th>744868</th>\n",
       "      <td>CA</td>\n",
       "      <td>M</td>\n",
       "      <td>2000</td>\n",
       "      <td>Michael</td>\n",
       "      <td>3572</td>\n",
       "    </tr>\n",
       "  </tbody>\n",
       "</table>\n",
       "</div>"
      ],
      "text/plain": [
       "       State Sex  Year     Name  Count\n",
       "744864    CA   M  2000   Daniel   4342\n",
       "744865    CA   M  2000  Anthony   3840\n",
       "744866    CA   M  2000     Jose   3804\n",
       "744867    CA   M  2000   Andrew   3600\n",
       "744868    CA   M  2000  Michael   3572"
      ]
     },
     "execution_count": 30,
     "metadata": {},
     "output_type": "execute_result"
    }
   ],
   "source": [
    "result = baby_names[(baby_names['Year']==2000) & (baby_names['Count']>3000)]\n",
    "result.head()"
   ]
  },
  {
   "cell_type": "code",
   "execution_count": 31,
   "metadata": {
    "deletable": true,
    "editable": true
   },
   "outputs": [
    {
     "data": {
      "text/html": [
       "<p><strong><pre style='display: inline;'>q1_5</pre></strong> passed! 🎉</p>"
      ],
      "text/plain": [
       "q1_5 results: All test cases passed!"
      ]
     },
     "execution_count": 31,
     "metadata": {},
     "output_type": "execute_result"
    }
   ],
   "source": [
    "grader.check(\"q1_5\")"
   ]
  },
  {
   "cell_type": "markdown",
   "metadata": {},
   "source": [
    "Optionally, repeat the exercise from above, but this time using the `query` command."
   ]
  },
  {
   "cell_type": "code",
   "execution_count": 32,
   "metadata": {},
   "outputs": [
    {
     "data": {
      "text/html": [
       "<div>\n",
       "<style scoped>\n",
       "    .dataframe tbody tr th:only-of-type {\n",
       "        vertical-align: middle;\n",
       "    }\n",
       "\n",
       "    .dataframe tbody tr th {\n",
       "        vertical-align: top;\n",
       "    }\n",
       "\n",
       "    .dataframe thead th {\n",
       "        text-align: right;\n",
       "    }\n",
       "</style>\n",
       "<table border=\"1\" class=\"dataframe\">\n",
       "  <thead>\n",
       "    <tr style=\"text-align: right;\">\n",
       "      <th></th>\n",
       "      <th>State</th>\n",
       "      <th>Sex</th>\n",
       "      <th>Year</th>\n",
       "      <th>Name</th>\n",
       "      <th>Count</th>\n",
       "    </tr>\n",
       "  </thead>\n",
       "  <tbody>\n",
       "    <tr>\n",
       "      <th>744864</th>\n",
       "      <td>CA</td>\n",
       "      <td>M</td>\n",
       "      <td>2000</td>\n",
       "      <td>Daniel</td>\n",
       "      <td>4342</td>\n",
       "    </tr>\n",
       "    <tr>\n",
       "      <th>744865</th>\n",
       "      <td>CA</td>\n",
       "      <td>M</td>\n",
       "      <td>2000</td>\n",
       "      <td>Anthony</td>\n",
       "      <td>3840</td>\n",
       "    </tr>\n",
       "    <tr>\n",
       "      <th>744866</th>\n",
       "      <td>CA</td>\n",
       "      <td>M</td>\n",
       "      <td>2000</td>\n",
       "      <td>Jose</td>\n",
       "      <td>3804</td>\n",
       "    </tr>\n",
       "    <tr>\n",
       "      <th>744867</th>\n",
       "      <td>CA</td>\n",
       "      <td>M</td>\n",
       "      <td>2000</td>\n",
       "      <td>Andrew</td>\n",
       "      <td>3600</td>\n",
       "    </tr>\n",
       "    <tr>\n",
       "      <th>744868</th>\n",
       "      <td>CA</td>\n",
       "      <td>M</td>\n",
       "      <td>2000</td>\n",
       "      <td>Michael</td>\n",
       "      <td>3572</td>\n",
       "    </tr>\n",
       "  </tbody>\n",
       "</table>\n",
       "</div>"
      ],
      "text/plain": [
       "       State Sex  Year     Name  Count\n",
       "744864    CA   M  2000   Daniel   4342\n",
       "744865    CA   M  2000  Anthony   3840\n",
       "744866    CA   M  2000     Jose   3804\n",
       "744867    CA   M  2000   Andrew   3600\n",
       "744868    CA   M  2000  Michael   3572"
      ]
     },
     "execution_count": 32,
     "metadata": {},
     "output_type": "execute_result"
    }
   ],
   "source": [
    "result_using_query = baby_names.query('Year==2000 and Count>3000')\n",
    "result_using_query.head(5)"
   ]
  },
  {
   "cell_type": "markdown",
   "metadata": {},
   "source": [
    "### Question 1.6\n",
    "\n",
    "Some names gain/lose popularity because of cultural phenomena such as a famous pop star. Below, we plot the popularity of the name Britney in California over time. What do you notice about this plot? What might be the cause of the steep spike around the year 2000?"
   ]
  },
  {
   "cell_type": "code",
   "execution_count": 33,
   "metadata": {},
   "outputs": [
    {
     "data": {
      "image/png": "[encoded data removed]",
      "text/plain": [
       "<Figure size 640x480 with 1 Axes>"
      ]
     },
     "metadata": {},
     "output_type": "display_data"
    }
   ],
   "source": [
    "britney_baby_name = baby_names[(baby_names['Name'] == 'Britney') & (baby_names['State'] == 'CA') & (baby_names['Sex'] == 'F')]\n",
    "plt.plot(britney_baby_name['Year'], britney_baby_name['Count'])\n",
    "plt.title(\"Britney Popularity Over Time\")\n",
    "plt.xlabel('Year')\n",
    "plt.ylabel('Count');"
   ]
  },
  {
   "cell_type": "markdown",
   "metadata": {},
   "source": [
    "**Your Response:** The popularity of the name Britney begins to rise in the mid 1980s, peaking initially around 1990. Then it falls and returns in higher popularity in the year 2000, likely due to the fame of Britney Spears, and then has been slowly declining since the early 2000s."
   ]
  },
  {
   "cell_type": "markdown",
   "metadata": {},
   "source": [
    "### Question 1.7"
   ]
  },
  {
   "cell_type": "markdown",
   "metadata": {},
   "source": [
    "Now we will aggregate counts across all 50 states. Use `groupby()` to aggregate the data by \"Name\" and \"Year\", then `sum()` \"Count\" and finally `reset_index()` (this will turn the index, Name in this case, into a column).  "
   ]
  },
  {
   "cell_type": "code",
   "execution_count": 34,
   "metadata": {},
   "outputs": [
    {
     "data": {
      "text/html": [
       "<div>\n",
       "<style scoped>\n",
       "    .dataframe tbody tr th:only-of-type {\n",
       "        vertical-align: middle;\n",
       "    }\n",
       "\n",
       "    .dataframe tbody tr th {\n",
       "        vertical-align: top;\n",
       "    }\n",
       "\n",
       "    .dataframe thead th {\n",
       "        text-align: right;\n",
       "    }\n",
       "</style>\n",
       "<table border=\"1\" class=\"dataframe\">\n",
       "  <thead>\n",
       "    <tr style=\"text-align: right;\">\n",
       "      <th></th>\n",
       "      <th>Name</th>\n",
       "      <th>Year</th>\n",
       "      <th>Count</th>\n",
       "    </tr>\n",
       "  </thead>\n",
       "  <tbody>\n",
       "    <tr>\n",
       "      <th>0</th>\n",
       "      <td>Aaban</td>\n",
       "      <td>2013</td>\n",
       "      <td>6</td>\n",
       "    </tr>\n",
       "    <tr>\n",
       "      <th>1</th>\n",
       "      <td>Aaban</td>\n",
       "      <td>2014</td>\n",
       "      <td>6</td>\n",
       "    </tr>\n",
       "    <tr>\n",
       "      <th>2</th>\n",
       "      <td>Aadam</td>\n",
       "      <td>2019</td>\n",
       "      <td>6</td>\n",
       "    </tr>\n",
       "    <tr>\n",
       "      <th>3</th>\n",
       "      <td>Aadan</td>\n",
       "      <td>2008</td>\n",
       "      <td>12</td>\n",
       "    </tr>\n",
       "    <tr>\n",
       "      <th>4</th>\n",
       "      <td>Aadan</td>\n",
       "      <td>2009</td>\n",
       "      <td>6</td>\n",
       "    </tr>\n",
       "    <tr>\n",
       "      <th>...</th>\n",
       "      <td>...</td>\n",
       "      <td>...</td>\n",
       "      <td>...</td>\n",
       "    </tr>\n",
       "    <tr>\n",
       "      <th>621748</th>\n",
       "      <td>Zyriah</td>\n",
       "      <td>2014</td>\n",
       "      <td>6</td>\n",
       "    </tr>\n",
       "    <tr>\n",
       "      <th>621749</th>\n",
       "      <td>Zyriah</td>\n",
       "      <td>2016</td>\n",
       "      <td>5</td>\n",
       "    </tr>\n",
       "    <tr>\n",
       "      <th>621750</th>\n",
       "      <td>Zyron</td>\n",
       "      <td>2015</td>\n",
       "      <td>5</td>\n",
       "    </tr>\n",
       "    <tr>\n",
       "      <th>621751</th>\n",
       "      <td>Zyrus</td>\n",
       "      <td>2021</td>\n",
       "      <td>5</td>\n",
       "    </tr>\n",
       "    <tr>\n",
       "      <th>621752</th>\n",
       "      <td>Zyshonne</td>\n",
       "      <td>1998</td>\n",
       "      <td>5</td>\n",
       "    </tr>\n",
       "  </tbody>\n",
       "</table>\n",
       "<p>621753 rows × 3 columns</p>\n",
       "</div>"
      ],
      "text/plain": [
       "            Name  Year  Count\n",
       "0          Aaban  2013      6\n",
       "1          Aaban  2014      6\n",
       "2          Aadam  2019      6\n",
       "3          Aadan  2008     12\n",
       "4          Aadan  2009      6\n",
       "...          ...   ...    ...\n",
       "621748    Zyriah  2014      6\n",
       "621749    Zyriah  2016      5\n",
       "621750     Zyron  2015      5\n",
       "621751     Zyrus  2021      5\n",
       "621752  Zyshonne  1998      5\n",
       "\n",
       "[621753 rows x 3 columns]"
      ]
     },
     "execution_count": 34,
     "metadata": {},
     "output_type": "execute_result"
    }
   ],
   "source": [
    "counts_aggregated_by_name_and_year = baby_names.groupby(['Name', 'Year'])['Count'].sum().reset_index() \n",
    "counts_aggregated_by_name_and_year"
   ]
  },
  {
   "cell_type": "code",
   "execution_count": 35,
   "metadata": {
    "scrolled": true
   },
   "outputs": [
    {
     "data": {
      "text/html": [
       "<p><strong><pre style='display: inline;'>q1_7</pre></strong> passed! 🌟</p>"
      ],
      "text/plain": [
       "q1_7 results: All test cases passed!"
      ]
     },
     "execution_count": 35,
     "metadata": {},
     "output_type": "execute_result"
    }
   ],
   "source": [
    "grader.check(\"q1_7\")"
   ]
  },
  {
   "cell_type": "markdown",
   "metadata": {},
   "source": [
    "Now you can use the below code to plot the frequency of any name of interest in the United States over time. "
   ]
  },
  {
   "cell_type": "code",
   "execution_count": 36,
   "metadata": {},
   "outputs": [
    {
     "data": {
      "image/png": "[encoded data removed]",
      "text/plain": [
       "<Figure size 640x480 with 1 Axes>"
      ]
     },
     "metadata": {},
     "output_type": "display_data"
    }
   ],
   "source": [
    "name_of_interest = 'Hannah'\n",
    "chosen_baby_name = counts_aggregated_by_name_and_year.query(\"Name == @name_of_interest\")\n",
    "plt.plot(chosen_baby_name['Year'], chosen_baby_name['Count'])\n",
    "plt.title(f\"Popularity Of {name_of_interest} Over Time\")\n",
    "plt.xlabel('Year')\n",
    "plt.ylabel('Count');"
   ]
  },
  {
   "cell_type": "markdown",
   "metadata": {},
   "source": [
    "Well done. Now that you've been primed on data manipulation with `pandas`, we're going to do a little more practice without as much hand holding to challenge you. "
   ]
  },
  {
   "cell_type": "markdown",
   "metadata": {},
   "source": [
    "## Section 2: Filtering and aggregating COVID data"
   ]
  },
  {
   "cell_type": "markdown",
   "metadata": {},
   "source": [
    "In thi section we'll examine the influence of the COVID pandemic on US jobs across different sectors."
   ]
  },
  {
   "cell_type": "code",
   "execution_count": 37,
   "metadata": {},
   "outputs": [
    {
     "data": {
      "text/html": [
       "<div>\n",
       "<style scoped>\n",
       "    .dataframe tbody tr th:only-of-type {\n",
       "        vertical-align: middle;\n",
       "    }\n",
       "\n",
       "    .dataframe tbody tr th {\n",
       "        vertical-align: top;\n",
       "    }\n",
       "\n",
       "    .dataframe thead th {\n",
       "        text-align: right;\n",
       "    }\n",
       "</style>\n",
       "<table border=\"1\" class=\"dataframe\">\n",
       "  <thead>\n",
       "    <tr style=\"text-align: right;\">\n",
       "      <th></th>\n",
       "      <th>observation_date</th>\n",
       "      <th>jobs</th>\n",
       "      <th>labor_force</th>\n",
       "    </tr>\n",
       "  </thead>\n",
       "  <tbody>\n",
       "    <tr>\n",
       "      <th>0</th>\n",
       "      <td>2014-03-01</td>\n",
       "      <td>150036.0</td>\n",
       "      <td>156028</td>\n",
       "    </tr>\n",
       "    <tr>\n",
       "      <th>1</th>\n",
       "      <td>2014-04-01</td>\n",
       "      <td>150233.0</td>\n",
       "      <td>155369</td>\n",
       "    </tr>\n",
       "    <tr>\n",
       "      <th>2</th>\n",
       "      <td>2014-05-01</td>\n",
       "      <td>150572.0</td>\n",
       "      <td>155684</td>\n",
       "    </tr>\n",
       "    <tr>\n",
       "      <th>3</th>\n",
       "      <td>2014-06-01</td>\n",
       "      <td>151229.0</td>\n",
       "      <td>155707</td>\n",
       "    </tr>\n",
       "    <tr>\n",
       "      <th>4</th>\n",
       "      <td>2014-07-01</td>\n",
       "      <td>151245.0</td>\n",
       "      <td>156007</td>\n",
       "    </tr>\n",
       "    <tr>\n",
       "      <th>...</th>\n",
       "      <td>...</td>\n",
       "      <td>...</td>\n",
       "      <td>...</td>\n",
       "    </tr>\n",
       "    <tr>\n",
       "      <th>103</th>\n",
       "      <td>2022-10-01</td>\n",
       "      <td>169255.0</td>\n",
       "      <td>164679</td>\n",
       "    </tr>\n",
       "    <tr>\n",
       "      <th>104</th>\n",
       "      <td>2022-11-01</td>\n",
       "      <td>169187.0</td>\n",
       "      <td>164441</td>\n",
       "    </tr>\n",
       "    <tr>\n",
       "      <th>105</th>\n",
       "      <td>2022-12-01</td>\n",
       "      <td>170300.0</td>\n",
       "      <td>164998</td>\n",
       "    </tr>\n",
       "    <tr>\n",
       "      <th>106</th>\n",
       "      <td>2023-01-01</td>\n",
       "      <td>170577.0</td>\n",
       "      <td>165871</td>\n",
       "    </tr>\n",
       "    <tr>\n",
       "      <th>107</th>\n",
       "      <td>2023-02-01</td>\n",
       "      <td>170150.0</td>\n",
       "      <td>166263</td>\n",
       "    </tr>\n",
       "  </tbody>\n",
       "</table>\n",
       "<p>108 rows × 3 columns</p>\n",
       "</div>"
      ],
      "text/plain": [
       "    observation_date      jobs  labor_force\n",
       "0         2014-03-01  150036.0       156028\n",
       "1         2014-04-01  150233.0       155369\n",
       "2         2014-05-01  150572.0       155684\n",
       "3         2014-06-01  151229.0       155707\n",
       "4         2014-07-01  151245.0       156007\n",
       "..               ...       ...          ...\n",
       "103       2022-10-01  169255.0       164679\n",
       "104       2022-11-01  169187.0       164441\n",
       "105       2022-12-01  170300.0       164998\n",
       "106       2023-01-01  170577.0       165871\n",
       "107       2023-02-01  170150.0       166263\n",
       "\n",
       "[108 rows x 3 columns]"
      ]
     },
     "execution_count": 37,
     "metadata": {},
     "output_type": "execute_result"
    }
   ],
   "source": [
    "jobs = pd.read_csv(\"./data/jobs.csv\")\n",
    "jobs"
   ]
  },
  {
   "cell_type": "markdown",
   "metadata": {},
   "source": [
    "#### Question 2.1\n",
    "\n",
    "Let's start by creating a new variable called \"difference\" in \"jobs\" that is the available labor force subtracted from jobs. Make this as a new column in your data."
   ]
  },
  {
   "cell_type": "code",
   "execution_count": 38,
   "metadata": {},
   "outputs": [
    {
     "data": {
      "text/html": [
       "<div>\n",
       "<style scoped>\n",
       "    .dataframe tbody tr th:only-of-type {\n",
       "        vertical-align: middle;\n",
       "    }\n",
       "\n",
       "    .dataframe tbody tr th {\n",
       "        vertical-align: top;\n",
       "    }\n",
       "\n",
       "    .dataframe thead th {\n",
       "        text-align: right;\n",
       "    }\n",
       "</style>\n",
       "<table border=\"1\" class=\"dataframe\">\n",
       "  <thead>\n",
       "    <tr style=\"text-align: right;\">\n",
       "      <th></th>\n",
       "      <th>observation_date</th>\n",
       "      <th>jobs</th>\n",
       "      <th>labor_force</th>\n",
       "      <th>difference</th>\n",
       "    </tr>\n",
       "  </thead>\n",
       "  <tbody>\n",
       "    <tr>\n",
       "      <th>0</th>\n",
       "      <td>2014-03-01</td>\n",
       "      <td>150036.0</td>\n",
       "      <td>156028</td>\n",
       "      <td>-5992.0</td>\n",
       "    </tr>\n",
       "    <tr>\n",
       "      <th>1</th>\n",
       "      <td>2014-04-01</td>\n",
       "      <td>150233.0</td>\n",
       "      <td>155369</td>\n",
       "      <td>-5136.0</td>\n",
       "    </tr>\n",
       "    <tr>\n",
       "      <th>2</th>\n",
       "      <td>2014-05-01</td>\n",
       "      <td>150572.0</td>\n",
       "      <td>155684</td>\n",
       "      <td>-5112.0</td>\n",
       "    </tr>\n",
       "    <tr>\n",
       "      <th>3</th>\n",
       "      <td>2014-06-01</td>\n",
       "      <td>151229.0</td>\n",
       "      <td>155707</td>\n",
       "      <td>-4478.0</td>\n",
       "    </tr>\n",
       "    <tr>\n",
       "      <th>4</th>\n",
       "      <td>2014-07-01</td>\n",
       "      <td>151245.0</td>\n",
       "      <td>156007</td>\n",
       "      <td>-4762.0</td>\n",
       "    </tr>\n",
       "  </tbody>\n",
       "</table>\n",
       "</div>"
      ],
      "text/plain": [
       "  observation_date      jobs  labor_force  difference\n",
       "0       2014-03-01  150036.0       156028     -5992.0\n",
       "1       2014-04-01  150233.0       155369     -5136.0\n",
       "2       2014-05-01  150572.0       155684     -5112.0\n",
       "3       2014-06-01  151229.0       155707     -4478.0\n",
       "4       2014-07-01  151245.0       156007     -4762.0"
      ]
     },
     "execution_count": 38,
     "metadata": {},
     "output_type": "execute_result"
    }
   ],
   "source": [
    "jobs['difference'] = jobs['jobs'] - jobs['labor_force'] \n",
    "jobs.head()"
   ]
  },
  {
   "cell_type": "code",
   "execution_count": 39,
   "metadata": {},
   "outputs": [
    {
     "data": {
      "text/html": [
       "<p><strong><pre style='display: inline;'>q2_1</pre></strong> passed! ✨</p>"
      ],
      "text/plain": [
       "q2_1 results: All test cases passed!"
      ]
     },
     "execution_count": 39,
     "metadata": {},
     "output_type": "execute_result"
    }
   ],
   "source": [
    "grader.check(\"q2_1\")"
   ]
  },
  {
   "cell_type": "markdown",
   "metadata": {},
   "source": [
    "What do positive and negative differences mean? \n",
    "\n",
    "**Your response**: A positive difference means there are more jobs than people available to take them, and vice versa for a negative difference."
   ]
  },
  {
   "cell_type": "markdown",
   "metadata": {},
   "source": [
    "#### Question 2.2\n",
    "\n",
    "For how many months in our time series did the number of jobs exceed the size of the labor force?"
   ]
  },
  {
   "cell_type": "code",
   "execution_count": 40,
   "metadata": {},
   "outputs": [
    {
     "data": {
      "text/plain": [
       "47"
      ]
     },
     "execution_count": 40,
     "metadata": {},
     "output_type": "execute_result"
    }
   ],
   "source": [
    "months = np.sum(jobs['jobs'] > jobs['labor_force'])\n",
    "months"
   ]
  },
  {
   "cell_type": "code",
   "execution_count": 41,
   "metadata": {},
   "outputs": [
    {
     "data": {
      "text/html": [
       "<p><strong><pre style='display: inline;'>q2_2</pre></strong> passed! 🙌</p>"
      ],
      "text/plain": [
       "q2_2 results: All test cases passed!"
      ]
     },
     "execution_count": 41,
     "metadata": {},
     "output_type": "execute_result"
    }
   ],
   "source": [
    "grader.check(\"q2_2\")"
   ]
  },
  {
   "cell_type": "markdown",
   "metadata": {},
   "source": [
    "#### Question 2.3\n",
    "\n",
    "Find the date that corresponds to the greatest negative difference between number of jobs and size of the labor force."
   ]
  },
  {
   "cell_type": "code",
   "execution_count": 42,
   "metadata": {},
   "outputs": [
    {
     "data": {
      "text/plain": [
       "'2020-04-01'"
      ]
     },
     "execution_count": 42,
     "metadata": {},
     "output_type": "execute_result"
    }
   ],
   "source": [
    "jobs.sort_values('difference').iloc[0, 0]"
   ]
  },
  {
   "cell_type": "markdown",
   "metadata": {},
   "source": [
    "Was there something going on at this point in time?"
   ]
  },
  {
   "cell_type": "code",
   "execution_count": 43,
   "metadata": {},
   "outputs": [
    {
     "data": {
      "image/png": "[encoded data removed]",
      "text/plain": [
       "<Figure size 640x480 with 1 Axes>"
      ]
     },
     "metadata": {},
     "output_type": "display_data"
    }
   ],
   "source": [
    "sns.lineplot(x = jobs[\"observation_date\"], y = jobs[\"difference\"])\n",
    "plt.xticks(rotation=30);"
   ]
  },
  {
   "cell_type": "markdown",
   "metadata": {},
   "source": [
    "**Your response**: This was the early days of the COVID-19 pandemic, where the lockdown caused significant change in the job market."
   ]
  },
  {
   "cell_type": "markdown",
   "metadata": {},
   "source": [
    "#### Question 2.4 \n",
    "\n",
    "Now we'll look at some data related to corporate profits before and after COVID."
   ]
  },
  {
   "cell_type": "code",
   "execution_count": 44,
   "metadata": {},
   "outputs": [
    {
     "data": {
      "text/html": [
       "<div>\n",
       "<style scoped>\n",
       "    .dataframe tbody tr th:only-of-type {\n",
       "        vertical-align: middle;\n",
       "    }\n",
       "\n",
       "    .dataframe tbody tr th {\n",
       "        vertical-align: top;\n",
       "    }\n",
       "\n",
       "    .dataframe thead th {\n",
       "        text-align: right;\n",
       "    }\n",
       "</style>\n",
       "<table border=\"1\" class=\"dataframe\">\n",
       "  <thead>\n",
       "    <tr style=\"text-align: right;\">\n",
       "      <th></th>\n",
       "      <th>DATE</th>\n",
       "      <th>profits_billions</th>\n",
       "      <th>product</th>\n",
       "    </tr>\n",
       "  </thead>\n",
       "  <tbody>\n",
       "    <tr>\n",
       "      <th>0</th>\n",
       "      <td>2001-01-01</td>\n",
       "      <td>-3.680</td>\n",
       "      <td>motor_vehicles</td>\n",
       "    </tr>\n",
       "    <tr>\n",
       "      <th>1</th>\n",
       "      <td>2001-04-01</td>\n",
       "      <td>-6.525</td>\n",
       "      <td>motor_vehicles</td>\n",
       "    </tr>\n",
       "    <tr>\n",
       "      <th>2</th>\n",
       "      <td>2001-07-01</td>\n",
       "      <td>-4.313</td>\n",
       "      <td>motor_vehicles</td>\n",
       "    </tr>\n",
       "    <tr>\n",
       "      <th>3</th>\n",
       "      <td>2001-10-01</td>\n",
       "      <td>-12.627</td>\n",
       "      <td>motor_vehicles</td>\n",
       "    </tr>\n",
       "    <tr>\n",
       "      <th>4</th>\n",
       "      <td>2002-01-01</td>\n",
       "      <td>-11.678</td>\n",
       "      <td>motor_vehicles</td>\n",
       "    </tr>\n",
       "  </tbody>\n",
       "</table>\n",
       "</div>"
      ],
      "text/plain": [
       "        DATE  profits_billions         product\n",
       "0 2001-01-01            -3.680  motor_vehicles\n",
       "1 2001-04-01            -6.525  motor_vehicles\n",
       "2 2001-07-01            -4.313  motor_vehicles\n",
       "3 2001-10-01           -12.627  motor_vehicles\n",
       "4 2002-01-01           -11.678  motor_vehicles"
      ]
     },
     "execution_count": 44,
     "metadata": {},
     "output_type": "execute_result"
    }
   ],
   "source": [
    "profits = pd.read_csv(\"./data/corp_profits.csv\")\n",
    "profits[\"DATE\"] = pd.to_datetime(profits[\"DATE\"])\n",
    "profits.head()"
   ]
  },
  {
   "cell_type": "markdown",
   "metadata": {},
   "source": [
    "What is the date range in our data? Note that we converted \"DATE\" to a datetime. \"datetimes\" can be operated on like any numeric variable. "
   ]
  },
  {
   "cell_type": "code",
   "execution_count": 45,
   "metadata": {},
   "outputs": [],
   "source": [
    "earliest = min(profits['DATE'])\n",
    "latest = max(profits['DATE'])"
   ]
  },
  {
   "cell_type": "code",
   "execution_count": 46,
   "metadata": {},
   "outputs": [
    {
     "data": {
      "text/html": [
       "<p><strong><pre style='display: inline;'>q2_4</pre></strong> passed! 🌟</p>"
      ],
      "text/plain": [
       "q2_4 results: All test cases passed!"
      ]
     },
     "execution_count": 46,
     "metadata": {},
     "output_type": "execute_result"
    }
   ],
   "source": [
    "grader.check(\"q2_4\")"
   ]
  },
  {
   "cell_type": "markdown",
   "metadata": {},
   "source": [
    "#### Question 2.5 \n",
    "\n",
    "How were different industries affected by COVID? First, filter that data such that we only have dates beginning on Jan 1st in 2016 and after. Then create a new column in the data called \"COVID\" and give the value \"pre-covid\" if the dates are between 2016-01-01 and 2020-03-01, and \"post-covid\" for anything after. "
   ]
  },
  {
   "cell_type": "code",
   "execution_count": 47,
   "metadata": {},
   "outputs": [
    {
     "data": {
      "text/html": [
       "<div>\n",
       "<style scoped>\n",
       "    .dataframe tbody tr th:only-of-type {\n",
       "        vertical-align: middle;\n",
       "    }\n",
       "\n",
       "    .dataframe tbody tr th {\n",
       "        vertical-align: top;\n",
       "    }\n",
       "\n",
       "    .dataframe thead th {\n",
       "        text-align: right;\n",
       "    }\n",
       "</style>\n",
       "<table border=\"1\" class=\"dataframe\">\n",
       "  <thead>\n",
       "    <tr style=\"text-align: right;\">\n",
       "      <th></th>\n",
       "      <th>DATE</th>\n",
       "      <th>profits_billions</th>\n",
       "      <th>product</th>\n",
       "    </tr>\n",
       "  </thead>\n",
       "  <tbody>\n",
       "    <tr>\n",
       "      <th>61</th>\n",
       "      <td>2016-04-01</td>\n",
       "      <td>35.931</td>\n",
       "      <td>motor_vehicles</td>\n",
       "    </tr>\n",
       "    <tr>\n",
       "      <th>62</th>\n",
       "      <td>2016-07-01</td>\n",
       "      <td>27.662</td>\n",
       "      <td>motor_vehicles</td>\n",
       "    </tr>\n",
       "    <tr>\n",
       "      <th>63</th>\n",
       "      <td>2016-10-01</td>\n",
       "      <td>25.442</td>\n",
       "      <td>motor_vehicles</td>\n",
       "    </tr>\n",
       "    <tr>\n",
       "      <th>64</th>\n",
       "      <td>2017-01-01</td>\n",
       "      <td>25.877</td>\n",
       "      <td>motor_vehicles</td>\n",
       "    </tr>\n",
       "    <tr>\n",
       "      <th>65</th>\n",
       "      <td>2017-04-01</td>\n",
       "      <td>18.097</td>\n",
       "      <td>motor_vehicles</td>\n",
       "    </tr>\n",
       "    <tr>\n",
       "      <th>...</th>\n",
       "      <td>...</td>\n",
       "      <td>...</td>\n",
       "      <td>...</td>\n",
       "    </tr>\n",
       "    <tr>\n",
       "      <th>274</th>\n",
       "      <td>2023-01-01</td>\n",
       "      <td>130.154</td>\n",
       "      <td>computer_electronics</td>\n",
       "    </tr>\n",
       "    <tr>\n",
       "      <th>275</th>\n",
       "      <td>2023-04-01</td>\n",
       "      <td>139.027</td>\n",
       "      <td>computer_electronics</td>\n",
       "    </tr>\n",
       "    <tr>\n",
       "      <th>276</th>\n",
       "      <td>2023-07-01</td>\n",
       "      <td>146.196</td>\n",
       "      <td>computer_electronics</td>\n",
       "    </tr>\n",
       "    <tr>\n",
       "      <th>277</th>\n",
       "      <td>2023-10-01</td>\n",
       "      <td>161.714</td>\n",
       "      <td>computer_electronics</td>\n",
       "    </tr>\n",
       "    <tr>\n",
       "      <th>278</th>\n",
       "      <td>2024-01-01</td>\n",
       "      <td>153.667</td>\n",
       "      <td>computer_electronics</td>\n",
       "    </tr>\n",
       "  </tbody>\n",
       "</table>\n",
       "<p>96 rows × 3 columns</p>\n",
       "</div>"
      ],
      "text/plain": [
       "          DATE  profits_billions               product\n",
       "61  2016-04-01            35.931        motor_vehicles\n",
       "62  2016-07-01            27.662        motor_vehicles\n",
       "63  2016-10-01            25.442        motor_vehicles\n",
       "64  2017-01-01            25.877        motor_vehicles\n",
       "65  2017-04-01            18.097        motor_vehicles\n",
       "..         ...               ...                   ...\n",
       "274 2023-01-01           130.154  computer_electronics\n",
       "275 2023-04-01           139.027  computer_electronics\n",
       "276 2023-07-01           146.196  computer_electronics\n",
       "277 2023-10-01           161.714  computer_electronics\n",
       "278 2024-01-01           153.667  computer_electronics\n",
       "\n",
       "[96 rows x 3 columns]"
      ]
     },
     "execution_count": 47,
     "metadata": {},
     "output_type": "execute_result"
    }
   ],
   "source": [
    "profits_recent = profits.query('DATE>\"2016-01-01\"')\n",
    "profits_recent"
   ]
  },
  {
   "cell_type": "code",
   "execution_count": 48,
   "metadata": {},
   "outputs": [
    {
     "name": "stderr",
     "output_type": "stream",
     "text": [
      "C:\\Users\\madel\\AppData\\Local\\Temp\\ipykernel_38128\\2281220100.py:1: SettingWithCopyWarning: \n",
      "A value is trying to be set on a copy of a slice from a DataFrame.\n",
      "Try using .loc[row_indexer,col_indexer] = value instead\n",
      "\n",
      "See the caveats in the documentation: https://pandas.pydata.org/pandas-docs/stable/user_guide/indexing.html#returning-a-view-versus-a-copy\n",
      "  profits_recent['COVID'] = np.where(profits_recent['DATE'] > \"2020-03-01\", 'post-covid', 'pre-covid')\n"
     ]
    },
    {
     "data": {
      "text/html": [
       "<div>\n",
       "<style scoped>\n",
       "    .dataframe tbody tr th:only-of-type {\n",
       "        vertical-align: middle;\n",
       "    }\n",
       "\n",
       "    .dataframe tbody tr th {\n",
       "        vertical-align: top;\n",
       "    }\n",
       "\n",
       "    .dataframe thead th {\n",
       "        text-align: right;\n",
       "    }\n",
       "</style>\n",
       "<table border=\"1\" class=\"dataframe\">\n",
       "  <thead>\n",
       "    <tr style=\"text-align: right;\">\n",
       "      <th></th>\n",
       "      <th>DATE</th>\n",
       "      <th>profits_billions</th>\n",
       "      <th>product</th>\n",
       "      <th>COVID</th>\n",
       "    </tr>\n",
       "  </thead>\n",
       "  <tbody>\n",
       "    <tr>\n",
       "      <th>61</th>\n",
       "      <td>2016-04-01</td>\n",
       "      <td>35.931</td>\n",
       "      <td>motor_vehicles</td>\n",
       "      <td>pre-covid</td>\n",
       "    </tr>\n",
       "    <tr>\n",
       "      <th>62</th>\n",
       "      <td>2016-07-01</td>\n",
       "      <td>27.662</td>\n",
       "      <td>motor_vehicles</td>\n",
       "      <td>pre-covid</td>\n",
       "    </tr>\n",
       "    <tr>\n",
       "      <th>63</th>\n",
       "      <td>2016-10-01</td>\n",
       "      <td>25.442</td>\n",
       "      <td>motor_vehicles</td>\n",
       "      <td>pre-covid</td>\n",
       "    </tr>\n",
       "    <tr>\n",
       "      <th>64</th>\n",
       "      <td>2017-01-01</td>\n",
       "      <td>25.877</td>\n",
       "      <td>motor_vehicles</td>\n",
       "      <td>pre-covid</td>\n",
       "    </tr>\n",
       "    <tr>\n",
       "      <th>65</th>\n",
       "      <td>2017-04-01</td>\n",
       "      <td>18.097</td>\n",
       "      <td>motor_vehicles</td>\n",
       "      <td>pre-covid</td>\n",
       "    </tr>\n",
       "    <tr>\n",
       "      <th>...</th>\n",
       "      <td>...</td>\n",
       "      <td>...</td>\n",
       "      <td>...</td>\n",
       "      <td>...</td>\n",
       "    </tr>\n",
       "    <tr>\n",
       "      <th>274</th>\n",
       "      <td>2023-01-01</td>\n",
       "      <td>130.154</td>\n",
       "      <td>computer_electronics</td>\n",
       "      <td>post-covid</td>\n",
       "    </tr>\n",
       "    <tr>\n",
       "      <th>275</th>\n",
       "      <td>2023-04-01</td>\n",
       "      <td>139.027</td>\n",
       "      <td>computer_electronics</td>\n",
       "      <td>post-covid</td>\n",
       "    </tr>\n",
       "    <tr>\n",
       "      <th>276</th>\n",
       "      <td>2023-07-01</td>\n",
       "      <td>146.196</td>\n",
       "      <td>computer_electronics</td>\n",
       "      <td>post-covid</td>\n",
       "    </tr>\n",
       "    <tr>\n",
       "      <th>277</th>\n",
       "      <td>2023-10-01</td>\n",
       "      <td>161.714</td>\n",
       "      <td>computer_electronics</td>\n",
       "      <td>post-covid</td>\n",
       "    </tr>\n",
       "    <tr>\n",
       "      <th>278</th>\n",
       "      <td>2024-01-01</td>\n",
       "      <td>153.667</td>\n",
       "      <td>computer_electronics</td>\n",
       "      <td>post-covid</td>\n",
       "    </tr>\n",
       "  </tbody>\n",
       "</table>\n",
       "<p>96 rows × 4 columns</p>\n",
       "</div>"
      ],
      "text/plain": [
       "          DATE  profits_billions               product       COVID\n",
       "61  2016-04-01            35.931        motor_vehicles   pre-covid\n",
       "62  2016-07-01            27.662        motor_vehicles   pre-covid\n",
       "63  2016-10-01            25.442        motor_vehicles   pre-covid\n",
       "64  2017-01-01            25.877        motor_vehicles   pre-covid\n",
       "65  2017-04-01            18.097        motor_vehicles   pre-covid\n",
       "..         ...               ...                   ...         ...\n",
       "274 2023-01-01           130.154  computer_electronics  post-covid\n",
       "275 2023-04-01           139.027  computer_electronics  post-covid\n",
       "276 2023-07-01           146.196  computer_electronics  post-covid\n",
       "277 2023-10-01           161.714  computer_electronics  post-covid\n",
       "278 2024-01-01           153.667  computer_electronics  post-covid\n",
       "\n",
       "[96 rows x 4 columns]"
      ]
     },
     "execution_count": 48,
     "metadata": {},
     "output_type": "execute_result"
    }
   ],
   "source": [
    "profits_recent['COVID'] = np.where(profits_recent['DATE'] > \"2020-03-01\", 'post-covid', 'pre-covid')\n",
    "profits_recent"
   ]
  },
  {
   "cell_type": "code",
   "execution_count": 49,
   "metadata": {},
   "outputs": [
    {
     "data": {
      "text/html": [
       "<p><strong><pre style='display: inline;'>q2_5</pre></strong> passed! 🌟</p>"
      ],
      "text/plain": [
       "q2_5 results: All test cases passed!"
      ]
     },
     "execution_count": 49,
     "metadata": {},
     "output_type": "execute_result"
    }
   ],
   "source": [
    "grader.check(\"q2_5\")"
   ]
  },
  {
   "cell_type": "markdown",
   "metadata": {},
   "source": [
    "#### Questeion 2.6\n",
    "\n",
    "Now find the average pre- and post-covid profit for each product. Remember that you can group by more than one variable."
   ]
  },
  {
   "cell_type": "code",
   "execution_count": 50,
   "metadata": {},
   "outputs": [
    {
     "data": {
      "text/html": [
       "<div>\n",
       "<style scoped>\n",
       "    .dataframe tbody tr th:only-of-type {\n",
       "        vertical-align: middle;\n",
       "    }\n",
       "\n",
       "    .dataframe tbody tr th {\n",
       "        vertical-align: top;\n",
       "    }\n",
       "\n",
       "    .dataframe thead th {\n",
       "        text-align: right;\n",
       "    }\n",
       "</style>\n",
       "<table border=\"1\" class=\"dataframe\">\n",
       "  <thead>\n",
       "    <tr style=\"text-align: right;\">\n",
       "      <th></th>\n",
       "      <th>product</th>\n",
       "      <th>COVID</th>\n",
       "      <th>profits_billions</th>\n",
       "    </tr>\n",
       "  </thead>\n",
       "  <tbody>\n",
       "    <tr>\n",
       "      <th>0</th>\n",
       "      <td>chemical_products</td>\n",
       "      <td>post-covid</td>\n",
       "      <td>123.618750</td>\n",
       "    </tr>\n",
       "    <tr>\n",
       "      <th>1</th>\n",
       "      <td>chemical_products</td>\n",
       "      <td>pre-covid</td>\n",
       "      <td>57.764250</td>\n",
       "    </tr>\n",
       "    <tr>\n",
       "      <th>2</th>\n",
       "      <td>computer_electronics</td>\n",
       "      <td>post-covid</td>\n",
       "      <td>131.476188</td>\n",
       "    </tr>\n",
       "    <tr>\n",
       "      <th>3</th>\n",
       "      <td>computer_electronics</td>\n",
       "      <td>pre-covid</td>\n",
       "      <td>56.339875</td>\n",
       "    </tr>\n",
       "    <tr>\n",
       "      <th>4</th>\n",
       "      <td>motor_vehicles</td>\n",
       "      <td>post-covid</td>\n",
       "      <td>-0.013750</td>\n",
       "    </tr>\n",
       "    <tr>\n",
       "      <th>5</th>\n",
       "      <td>motor_vehicles</td>\n",
       "      <td>pre-covid</td>\n",
       "      <td>9.869937</td>\n",
       "    </tr>\n",
       "  </tbody>\n",
       "</table>\n",
       "</div>"
      ],
      "text/plain": [
       "                product       COVID  profits_billions\n",
       "0     chemical_products  post-covid        123.618750\n",
       "1     chemical_products   pre-covid         57.764250\n",
       "2  computer_electronics  post-covid        131.476188\n",
       "3  computer_electronics   pre-covid         56.339875\n",
       "4        motor_vehicles  post-covid         -0.013750\n",
       "5        motor_vehicles   pre-covid          9.869937"
      ]
     },
     "execution_count": 50,
     "metadata": {},
     "output_type": "execute_result"
    }
   ],
   "source": [
    "grouped_profits = profits_recent.groupby(['product', 'COVID'])['profits_billions'].mean().reset_index()\n",
    "grouped_profits"
   ]
  },
  {
   "cell_type": "markdown",
   "metadata": {},
   "source": [
    "Interpret the findings. Why do you think some industries saw increased profits while others saw decreased profits?\n",
    "\n",
    "**Your response**: The COVID-19 pandemic likely led people to be more cautious of their hygiene and germ-related cleanliness. This would explain the increase in chemical products profits. Many people also adapted to a remote work lifestyle, increasing the need & spending for computer eletronics and decreasing the need for motor vehicles for commuting."
   ]
  },
  {
   "cell_type": "markdown",
   "metadata": {},
   "source": [
    "## Section 3: Cleaning and joining data"
   ]
  },
  {
   "cell_type": "markdown",
   "metadata": {},
   "source": [
    "We'll end this homework with an exercise in data cleaning and joining multiple relational datasets.\n",
    "\n",
    "We have two datasets:\n",
    "1. A dataset of every COVID treatment center in each incorporated township/city in the US\n",
    "2. A dataset of the estimated population in each incorporated township/city in the US as of 2013.\n",
    "\n",
    "Our ultimate goal is to determine which cities had the best COVID treatment infrastructure, represented by COVID treatment centers per capita. "
   ]
  },
  {
   "cell_type": "code",
   "execution_count": 51,
   "metadata": {},
   "outputs": [
    {
     "data": {
      "text/html": [
       "<div>\n",
       "<style scoped>\n",
       "    .dataframe tbody tr th:only-of-type {\n",
       "        vertical-align: middle;\n",
       "    }\n",
       "\n",
       "    .dataframe tbody tr th {\n",
       "        vertical-align: top;\n",
       "    }\n",
       "\n",
       "    .dataframe thead th {\n",
       "        text-align: right;\n",
       "    }\n",
       "</style>\n",
       "<table border=\"1\" class=\"dataframe\">\n",
       "  <thead>\n",
       "    <tr style=\"text-align: right;\">\n",
       "      <th></th>\n",
       "      <th>Provider Name</th>\n",
       "      <th>Address 1</th>\n",
       "      <th>Address 2</th>\n",
       "      <th>City</th>\n",
       "      <th>State</th>\n",
       "      <th>Zip</th>\n",
       "      <th>Latitude</th>\n",
       "      <th>Longitude</th>\n",
       "      <th>Geopoint</th>\n",
       "      <th>Last Report Date</th>\n",
       "      <th>Has Paxlovid</th>\n",
       "    </tr>\n",
       "  </thead>\n",
       "  <tbody>\n",
       "    <tr>\n",
       "      <th>0</th>\n",
       "      <td>WALGREENS #3351</td>\n",
       "      <td>6818 N ARMENIA AVE</td>\n",
       "      <td>NaN</td>\n",
       "      <td>tampa</td>\n",
       "      <td>FL</td>\n",
       "      <td>336045718</td>\n",
       "      <td>28.010111</td>\n",
       "      <td>-82.484895</td>\n",
       "      <td>POINT (-82.484895 28.010111)</td>\n",
       "      <td>2024-09-20T00:00:00Z</td>\n",
       "      <td>False</td>\n",
       "    </tr>\n",
       "    <tr>\n",
       "      <th>1</th>\n",
       "      <td>PHARMALIFE LTC</td>\n",
       "      <td>2951 PIEDMONT RD NE STE B</td>\n",
       "      <td>NaN</td>\n",
       "      <td>atlanta</td>\n",
       "      <td>GA</td>\n",
       "      <td>303052782</td>\n",
       "      <td>33.834900</td>\n",
       "      <td>-84.367529</td>\n",
       "      <td>POINT (-84.367529 33.8349)</td>\n",
       "      <td>2024-09-20T00:00:00Z</td>\n",
       "      <td>False</td>\n",
       "    </tr>\n",
       "    <tr>\n",
       "      <th>2</th>\n",
       "      <td>OSCO DRUG #3421</td>\n",
       "      <td>1402 21ST ST</td>\n",
       "      <td>NaN</td>\n",
       "      <td>zion</td>\n",
       "      <td>IL</td>\n",
       "      <td>600992304</td>\n",
       "      <td>42.457453</td>\n",
       "      <td>-87.828388</td>\n",
       "      <td>POINT (-87.828388 42.457453)</td>\n",
       "      <td>2024-09-20T00:00:00Z</td>\n",
       "      <td>False</td>\n",
       "    </tr>\n",
       "    <tr>\n",
       "      <th>3</th>\n",
       "      <td>F &amp; M DRUG LLC</td>\n",
       "      <td>209 N DOUGLAS</td>\n",
       "      <td>NaN</td>\n",
       "      <td>ellsworth</td>\n",
       "      <td>KS</td>\n",
       "      <td>67439</td>\n",
       "      <td>38.729736</td>\n",
       "      <td>-98.230233</td>\n",
       "      <td>POINT (-98.230233 38.729736)</td>\n",
       "      <td>2024-09-20T00:00:00Z</td>\n",
       "      <td>False</td>\n",
       "    </tr>\n",
       "    <tr>\n",
       "      <th>4</th>\n",
       "      <td>PHARMACY ARTS</td>\n",
       "      <td>31 BURNLEY RD</td>\n",
       "      <td>NaN</td>\n",
       "      <td>scottsville</td>\n",
       "      <td>KY</td>\n",
       "      <td>42164</td>\n",
       "      <td>36.757415</td>\n",
       "      <td>-86.217386</td>\n",
       "      <td>POINT (-86.217386 36.757415)</td>\n",
       "      <td>2024-09-20T00:00:00Z</td>\n",
       "      <td>False</td>\n",
       "    </tr>\n",
       "  </tbody>\n",
       "</table>\n",
       "</div>"
      ],
      "text/plain": [
       "     Provider Name                  Address 1 Address 2         City State  \\\n",
       "0  WALGREENS #3351         6818 N ARMENIA AVE       NaN        tampa    FL   \n",
       "1   PHARMALIFE LTC  2951 PIEDMONT RD NE STE B       NaN      atlanta    GA   \n",
       "2  OSCO DRUG #3421               1402 21ST ST       NaN         zion    IL   \n",
       "3   F & M DRUG LLC              209 N DOUGLAS       NaN    ellsworth    KS   \n",
       "4    PHARMACY ARTS              31 BURNLEY RD       NaN  scottsville    KY   \n",
       "\n",
       "         Zip   Latitude  Longitude                      Geopoint  \\\n",
       "0  336045718  28.010111 -82.484895  POINT (-82.484895 28.010111)   \n",
       "1  303052782  33.834900 -84.367529    POINT (-84.367529 33.8349)   \n",
       "2  600992304  42.457453 -87.828388  POINT (-87.828388 42.457453)   \n",
       "3      67439  38.729736 -98.230233  POINT (-98.230233 38.729736)   \n",
       "4      42164  36.757415 -86.217386  POINT (-86.217386 36.757415)   \n",
       "\n",
       "       Last Report Date  Has Paxlovid  \n",
       "0  2024-09-20T00:00:00Z         False  \n",
       "1  2024-09-20T00:00:00Z         False  \n",
       "2  2024-09-20T00:00:00Z         False  \n",
       "3  2024-09-20T00:00:00Z         False  \n",
       "4  2024-09-20T00:00:00Z         False  "
      ]
     },
     "execution_count": 51,
     "metadata": {},
     "output_type": "execute_result"
    }
   ],
   "source": [
    "# COVID treatment centers\n",
    "treat_centers = pd.read_csv(\"./data/COVID-19_Treatments_20240927.csv\")\n",
    "# Lowercase the town/city names to canonicalize them with the next dataset.\n",
    "treat_centers[\"City\"] = treat_centers[\"City\"].str.lower()\n",
    "treat_centers.head()"
   ]
  },
  {
   "cell_type": "markdown",
   "metadata": {},
   "source": [
    "#### Question 3.1\n",
    "\n",
    "Find the number of COVID treatment centers in each town. Remember that each row is a single treatment center, and remember that towns/cities in different states can have the same name. \n",
    "\n",
    "*Hint*: The `size()` function will be helpful"
   ]
  },
  {
   "cell_type": "code",
   "execution_count": 52,
   "metadata": {},
   "outputs": [
    {
     "data": {
      "text/html": [
       "<div>\n",
       "<style scoped>\n",
       "    .dataframe tbody tr th:only-of-type {\n",
       "        vertical-align: middle;\n",
       "    }\n",
       "\n",
       "    .dataframe tbody tr th {\n",
       "        vertical-align: top;\n",
       "    }\n",
       "\n",
       "    .dataframe thead th {\n",
       "        text-align: right;\n",
       "    }\n",
       "</style>\n",
       "<table border=\"1\" class=\"dataframe\">\n",
       "  <thead>\n",
       "    <tr style=\"text-align: right;\">\n",
       "      <th></th>\n",
       "      <th>City</th>\n",
       "      <th>State</th>\n",
       "      <th>num_centers</th>\n",
       "    </tr>\n",
       "  </thead>\n",
       "  <tbody>\n",
       "    <tr>\n",
       "      <th>0</th>\n",
       "      <td>abbeville</td>\n",
       "      <td>AL</td>\n",
       "      <td>2</td>\n",
       "    </tr>\n",
       "    <tr>\n",
       "      <th>1</th>\n",
       "      <td>abbeville</td>\n",
       "      <td>GA</td>\n",
       "      <td>1</td>\n",
       "    </tr>\n",
       "    <tr>\n",
       "      <th>2</th>\n",
       "      <td>abbeville</td>\n",
       "      <td>LA</td>\n",
       "      <td>6</td>\n",
       "    </tr>\n",
       "    <tr>\n",
       "      <th>3</th>\n",
       "      <td>abbeville</td>\n",
       "      <td>SC</td>\n",
       "      <td>2</td>\n",
       "    </tr>\n",
       "    <tr>\n",
       "      <th>4</th>\n",
       "      <td>abbotsford</td>\n",
       "      <td>WI</td>\n",
       "      <td>1</td>\n",
       "    </tr>\n",
       "    <tr>\n",
       "      <th>...</th>\n",
       "      <td>...</td>\n",
       "      <td>...</td>\n",
       "      <td>...</td>\n",
       "    </tr>\n",
       "    <tr>\n",
       "      <th>11277</th>\n",
       "      <td>zillah</td>\n",
       "      <td>WA</td>\n",
       "      <td>1</td>\n",
       "    </tr>\n",
       "    <tr>\n",
       "      <th>11278</th>\n",
       "      <td>zion</td>\n",
       "      <td>IL</td>\n",
       "      <td>5</td>\n",
       "    </tr>\n",
       "    <tr>\n",
       "      <th>11279</th>\n",
       "      <td>zionsville</td>\n",
       "      <td>IN</td>\n",
       "      <td>7</td>\n",
       "    </tr>\n",
       "    <tr>\n",
       "      <th>11280</th>\n",
       "      <td>zumbrota</td>\n",
       "      <td>MN</td>\n",
       "      <td>1</td>\n",
       "    </tr>\n",
       "    <tr>\n",
       "      <th>11281</th>\n",
       "      <td>zuni</td>\n",
       "      <td>NM</td>\n",
       "      <td>1</td>\n",
       "    </tr>\n",
       "  </tbody>\n",
       "</table>\n",
       "<p>11282 rows × 3 columns</p>\n",
       "</div>"
      ],
      "text/plain": [
       "             City State  num_centers\n",
       "0       abbeville    AL            2\n",
       "1       abbeville    GA            1\n",
       "2       abbeville    LA            6\n",
       "3       abbeville    SC            2\n",
       "4      abbotsford    WI            1\n",
       "...           ...   ...          ...\n",
       "11277      zillah    WA            1\n",
       "11278        zion    IL            5\n",
       "11279  zionsville    IN            7\n",
       "11280    zumbrota    MN            1\n",
       "11281        zuni    NM            1\n",
       "\n",
       "[11282 rows x 3 columns]"
      ]
     },
     "execution_count": 52,
     "metadata": {},
     "output_type": "execute_result"
    }
   ],
   "source": [
    "treat_counts = treat_centers.groupby(['City', 'State'])['City'].size().reset_index(name='num_centers')\n",
    "treat_counts"
   ]
  },
  {
   "cell_type": "code",
   "execution_count": 53,
   "metadata": {},
   "outputs": [
    {
     "data": {
      "text/html": [
       "<p><strong><pre style='display: inline;'>q3_1</pre></strong> passed! 🚀</p>"
      ],
      "text/plain": [
       "q3_1 results: All test cases passed!"
      ]
     },
     "execution_count": 53,
     "metadata": {},
     "output_type": "execute_result"
    }
   ],
   "source": [
    "grader.check(\"q3_1\")"
   ]
  },
  {
   "cell_type": "markdown",
   "metadata": {},
   "source": [
    "#### Question 3.2\n",
    "\n",
    "Let's read in the population data."
   ]
  },
  {
   "cell_type": "code",
   "execution_count": 54,
   "metadata": {},
   "outputs": [
    {
     "data": {
      "text/html": [
       "<div>\n",
       "<style scoped>\n",
       "    .dataframe tbody tr th:only-of-type {\n",
       "        vertical-align: middle;\n",
       "    }\n",
       "\n",
       "    .dataframe tbody tr th {\n",
       "        vertical-align: top;\n",
       "    }\n",
       "\n",
       "    .dataframe thead th {\n",
       "        text-align: right;\n",
       "    }\n",
       "</style>\n",
       "<table border=\"1\" class=\"dataframe\">\n",
       "  <thead>\n",
       "    <tr style=\"text-align: right;\">\n",
       "      <th></th>\n",
       "      <th>NAME</th>\n",
       "      <th>STNAME</th>\n",
       "      <th>POPESTIMATE2023</th>\n",
       "    </tr>\n",
       "  </thead>\n",
       "  <tbody>\n",
       "    <tr>\n",
       "      <th>0</th>\n",
       "      <td>abbeville</td>\n",
       "      <td>Alabama</td>\n",
       "      <td>2377</td>\n",
       "    </tr>\n",
       "    <tr>\n",
       "      <th>1</th>\n",
       "      <td>adamsville</td>\n",
       "      <td>Alabama</td>\n",
       "      <td>4172</td>\n",
       "    </tr>\n",
       "    <tr>\n",
       "      <th>2</th>\n",
       "      <td>addison</td>\n",
       "      <td>Alabama</td>\n",
       "      <td>667</td>\n",
       "    </tr>\n",
       "    <tr>\n",
       "      <th>3</th>\n",
       "      <td>akron</td>\n",
       "      <td>Alabama</td>\n",
       "      <td>224</td>\n",
       "    </tr>\n",
       "    <tr>\n",
       "      <th>4</th>\n",
       "      <td>alabaster</td>\n",
       "      <td>Alabama</td>\n",
       "      <td>34107</td>\n",
       "    </tr>\n",
       "  </tbody>\n",
       "</table>\n",
       "</div>"
      ],
      "text/plain": [
       "         NAME   STNAME  POPESTIMATE2023\n",
       "0   abbeville  Alabama             2377\n",
       "1  adamsville  Alabama             4172\n",
       "2     addison  Alabama              667\n",
       "3       akron  Alabama              224\n",
       "4   alabaster  Alabama            34107"
      ]
     },
     "execution_count": 54,
     "metadata": {},
     "output_type": "execute_result"
    }
   ],
   "source": [
    "# Town/city populations\n",
    "city_pop = pd.read_csv(\"./data/pop_est.csv\", encoding='latin-1')\n",
    "city_pop[\"NAME\"] = city_pop[\"NAME\"].str.lower()\n",
    "city_pop.head()"
   ]
  },
  {
   "cell_type": "markdown",
   "metadata": {},
   "source": [
    "For whatever reason, the population data has many duplicated rows. First, determine how many rows are duplicated. Second, remove those rows from the data.\n",
    "\n",
    "The easiest way to do this is with the `duplicated` method. The following cell will call up its documentation. "
   ]
  },
  {
   "cell_type": "code",
   "execution_count": 55,
   "metadata": {},
   "outputs": [
    {
     "data": {
      "text/plain": [
       "(74541, 3)"
      ]
     },
     "execution_count": 55,
     "metadata": {},
     "output_type": "execute_result"
    }
   ],
   "source": [
    "city_pop.shape"
   ]
  },
  {
   "cell_type": "code",
   "execution_count": 56,
   "metadata": {},
   "outputs": [
    {
     "data": {
      "text/plain": [
       "30446"
      ]
     },
     "execution_count": 56,
     "metadata": {},
     "output_type": "execute_result"
    }
   ],
   "source": [
    "duplicates = city_pop.duplicated()\n",
    "num_duplicates = sum(duplicates)\n",
    "num_duplicates"
   ]
  },
  {
   "cell_type": "code",
   "execution_count": 57,
   "metadata": {},
   "outputs": [
    {
     "data": {
      "text/html": [
       "<div>\n",
       "<style scoped>\n",
       "    .dataframe tbody tr th:only-of-type {\n",
       "        vertical-align: middle;\n",
       "    }\n",
       "\n",
       "    .dataframe tbody tr th {\n",
       "        vertical-align: top;\n",
       "    }\n",
       "\n",
       "    .dataframe thead th {\n",
       "        text-align: right;\n",
       "    }\n",
       "</style>\n",
       "<table border=\"1\" class=\"dataframe\">\n",
       "  <thead>\n",
       "    <tr style=\"text-align: right;\">\n",
       "      <th></th>\n",
       "      <th>NAME</th>\n",
       "      <th>STNAME</th>\n",
       "      <th>POPESTIMATE2023</th>\n",
       "      <th>duplicate</th>\n",
       "    </tr>\n",
       "  </thead>\n",
       "  <tbody>\n",
       "    <tr>\n",
       "      <th>0</th>\n",
       "      <td>abbeville</td>\n",
       "      <td>Alabama</td>\n",
       "      <td>2377</td>\n",
       "      <td>False</td>\n",
       "    </tr>\n",
       "    <tr>\n",
       "      <th>1</th>\n",
       "      <td>adamsville</td>\n",
       "      <td>Alabama</td>\n",
       "      <td>4172</td>\n",
       "      <td>False</td>\n",
       "    </tr>\n",
       "    <tr>\n",
       "      <th>2</th>\n",
       "      <td>addison</td>\n",
       "      <td>Alabama</td>\n",
       "      <td>667</td>\n",
       "      <td>False</td>\n",
       "    </tr>\n",
       "    <tr>\n",
       "      <th>3</th>\n",
       "      <td>akron</td>\n",
       "      <td>Alabama</td>\n",
       "      <td>224</td>\n",
       "      <td>False</td>\n",
       "    </tr>\n",
       "    <tr>\n",
       "      <th>4</th>\n",
       "      <td>alabaster</td>\n",
       "      <td>Alabama</td>\n",
       "      <td>34107</td>\n",
       "      <td>False</td>\n",
       "    </tr>\n",
       "    <tr>\n",
       "      <th>...</th>\n",
       "      <td>...</td>\n",
       "      <td>...</td>\n",
       "      <td>...</td>\n",
       "      <td>...</td>\n",
       "    </tr>\n",
       "    <tr>\n",
       "      <th>74521</th>\n",
       "      <td>sweetwater</td>\n",
       "      <td>Wyoming</td>\n",
       "      <td>41249</td>\n",
       "      <td>False</td>\n",
       "    </tr>\n",
       "    <tr>\n",
       "      <th>74528</th>\n",
       "      <td>teton</td>\n",
       "      <td>Wyoming</td>\n",
       "      <td>23232</td>\n",
       "      <td>False</td>\n",
       "    </tr>\n",
       "    <tr>\n",
       "      <th>74530</th>\n",
       "      <td>uinta</td>\n",
       "      <td>Wyoming</td>\n",
       "      <td>20745</td>\n",
       "      <td>False</td>\n",
       "    </tr>\n",
       "    <tr>\n",
       "      <th>74535</th>\n",
       "      <td>washakie</td>\n",
       "      <td>Wyoming</td>\n",
       "      <td>7710</td>\n",
       "      <td>False</td>\n",
       "    </tr>\n",
       "    <tr>\n",
       "      <th>74538</th>\n",
       "      <td>weston</td>\n",
       "      <td>Wyoming</td>\n",
       "      <td>6808</td>\n",
       "      <td>False</td>\n",
       "    </tr>\n",
       "  </tbody>\n",
       "</table>\n",
       "<p>44095 rows × 4 columns</p>\n",
       "</div>"
      ],
      "text/plain": [
       "             NAME   STNAME  POPESTIMATE2023  duplicate\n",
       "0       abbeville  Alabama             2377      False\n",
       "1      adamsville  Alabama             4172      False\n",
       "2         addison  Alabama              667      False\n",
       "3           akron  Alabama              224      False\n",
       "4       alabaster  Alabama            34107      False\n",
       "...           ...      ...              ...        ...\n",
       "74521  sweetwater  Wyoming            41249      False\n",
       "74528       teton  Wyoming            23232      False\n",
       "74530       uinta  Wyoming            20745      False\n",
       "74535    washakie  Wyoming             7710      False\n",
       "74538      weston  Wyoming             6808      False\n",
       "\n",
       "[44095 rows x 4 columns]"
      ]
     },
     "execution_count": 57,
     "metadata": {},
     "output_type": "execute_result"
    }
   ],
   "source": [
    "city_pop['duplicate'] = duplicates\n",
    "city_pop = city_pop.query('duplicate==False')#.drop('duplicate', axis=1)\n",
    "city_pop"
   ]
  },
  {
   "cell_type": "code",
   "execution_count": 58,
   "metadata": {},
   "outputs": [
    {
     "data": {
      "text/html": [
       "<p><strong><pre style='display: inline;'>q3_2</pre></strong> passed! 🚀</p>"
      ],
      "text/plain": [
       "q3_2 results: All test cases passed!"
      ]
     },
     "execution_count": 58,
     "metadata": {},
     "output_type": "execute_result"
    }
   ],
   "source": [
    "grader.check(\"q3_2\")"
   ]
  },
  {
   "cell_type": "markdown",
   "metadata": {},
   "source": [
    "#### Question 3.3\n",
    "\n",
    "We're getting close to joining the treatment centers dataframes and the population dataframe on a shared key. We might be tempted to join them on city names but this would be a careless thing to do (remember that different states can have towns/cities with the same name). This is instead a situation where multiple variables combine to form a unique key: town/city name and state. \n",
    "\n",
    "This poses an issue for us. While we have states in both frames, they are formatted differently. Thus, to fully relate them we need to pull in a third relation. "
   ]
  },
  {
   "cell_type": "code",
   "execution_count": 59,
   "metadata": {},
   "outputs": [
    {
     "data": {
      "text/html": [
       "<div>\n",
       "<style scoped>\n",
       "    .dataframe tbody tr th:only-of-type {\n",
       "        vertical-align: middle;\n",
       "    }\n",
       "\n",
       "    .dataframe tbody tr th {\n",
       "        vertical-align: top;\n",
       "    }\n",
       "\n",
       "    .dataframe thead th {\n",
       "        text-align: right;\n",
       "    }\n",
       "</style>\n",
       "<table border=\"1\" class=\"dataframe\">\n",
       "  <thead>\n",
       "    <tr style=\"text-align: right;\">\n",
       "      <th></th>\n",
       "      <th>State</th>\n",
       "      <th>Standard</th>\n",
       "      <th>Postal</th>\n",
       "    </tr>\n",
       "  </thead>\n",
       "  <tbody>\n",
       "    <tr>\n",
       "      <th>0</th>\n",
       "      <td>Alabama</td>\n",
       "      <td>Ala.</td>\n",
       "      <td>AL</td>\n",
       "    </tr>\n",
       "    <tr>\n",
       "      <th>1</th>\n",
       "      <td>Alaska</td>\n",
       "      <td>Alaska</td>\n",
       "      <td>AK</td>\n",
       "    </tr>\n",
       "    <tr>\n",
       "      <th>2</th>\n",
       "      <td>Arizona</td>\n",
       "      <td>Ariz.</td>\n",
       "      <td>AZ</td>\n",
       "    </tr>\n",
       "    <tr>\n",
       "      <th>3</th>\n",
       "      <td>Arkansas</td>\n",
       "      <td>Ark.</td>\n",
       "      <td>AR</td>\n",
       "    </tr>\n",
       "    <tr>\n",
       "      <th>4</th>\n",
       "      <td>California</td>\n",
       "      <td>Calif.</td>\n",
       "      <td>CA</td>\n",
       "    </tr>\n",
       "  </tbody>\n",
       "</table>\n",
       "</div>"
      ],
      "text/plain": [
       "        State Standard Postal\n",
       "0     Alabama     Ala.     AL\n",
       "1      Alaska   Alaska     AK\n",
       "2     Arizona    Ariz.     AZ\n",
       "3    Arkansas     Ark.     AR\n",
       "4  California   Calif.     CA"
      ]
     },
     "execution_count": 59,
     "metadata": {},
     "output_type": "execute_result"
    }
   ],
   "source": [
    "states = pd.read_csv(\"./data/States.csv\")\n",
    "states.head()"
   ]
  },
  {
   "cell_type": "markdown",
   "metadata": {},
   "source": [
    "Join states on city_pop such that there is one new column in city_pop called \"Postal\". You may need to `.drop()` a redundant column after joining."
   ]
  },
  {
   "cell_type": "code",
   "execution_count": 60,
   "metadata": {},
   "outputs": [],
   "source": [
    "city_pop = pd.merge(city_pop, states, left_on='STNAME', right_on='State', how='left')\n",
    "city_pop = city_pop.drop('State', axis=1)"
   ]
  },
  {
   "cell_type": "code",
   "execution_count": 61,
   "metadata": {},
   "outputs": [
    {
     "data": {
      "text/html": [
       "<p><strong><pre style='display: inline;'>q3_3</pre></strong> passed! 🌟</p>"
      ],
      "text/plain": [
       "q3_3 results: All test cases passed!"
      ]
     },
     "execution_count": 61,
     "metadata": {},
     "output_type": "execute_result"
    }
   ],
   "source": [
    "grader.check(\"q3_3\")"
   ]
  },
  {
   "cell_type": "markdown",
   "metadata": {},
   "source": [
    "#### Question 3.4\n",
    "\n",
    "Now join city_pop and treat_counts. Ensure that you're only keeping rows where there are key matches i.e. do an \"inner\" join. "
   ]
  },
  {
   "cell_type": "code",
   "execution_count": 62,
   "metadata": {},
   "outputs": [
    {
     "data": {
      "text/html": [
       "<div>\n",
       "<style scoped>\n",
       "    .dataframe tbody tr th:only-of-type {\n",
       "        vertical-align: middle;\n",
       "    }\n",
       "\n",
       "    .dataframe tbody tr th {\n",
       "        vertical-align: top;\n",
       "    }\n",
       "\n",
       "    .dataframe thead th {\n",
       "        text-align: right;\n",
       "    }\n",
       "</style>\n",
       "<table border=\"1\" class=\"dataframe\">\n",
       "  <thead>\n",
       "    <tr style=\"text-align: right;\">\n",
       "      <th></th>\n",
       "      <th>NAME</th>\n",
       "      <th>STNAME</th>\n",
       "      <th>POPESTIMATE2023</th>\n",
       "      <th>num_centers</th>\n",
       "    </tr>\n",
       "  </thead>\n",
       "  <tbody>\n",
       "    <tr>\n",
       "      <th>0</th>\n",
       "      <td>abbeville</td>\n",
       "      <td>Alabama</td>\n",
       "      <td>2377</td>\n",
       "      <td>2</td>\n",
       "    </tr>\n",
       "    <tr>\n",
       "      <th>1</th>\n",
       "      <td>adamsville</td>\n",
       "      <td>Alabama</td>\n",
       "      <td>4172</td>\n",
       "      <td>1</td>\n",
       "    </tr>\n",
       "    <tr>\n",
       "      <th>2</th>\n",
       "      <td>addison</td>\n",
       "      <td>Alabama</td>\n",
       "      <td>667</td>\n",
       "      <td>2</td>\n",
       "    </tr>\n",
       "    <tr>\n",
       "      <th>3</th>\n",
       "      <td>alabaster</td>\n",
       "      <td>Alabama</td>\n",
       "      <td>34107</td>\n",
       "      <td>11</td>\n",
       "    </tr>\n",
       "    <tr>\n",
       "      <th>4</th>\n",
       "      <td>albertville</td>\n",
       "      <td>Alabama</td>\n",
       "      <td>23031</td>\n",
       "      <td>9</td>\n",
       "    </tr>\n",
       "    <tr>\n",
       "      <th>...</th>\n",
       "      <td>...</td>\n",
       "      <td>...</td>\n",
       "      <td>...</td>\n",
       "      <td>...</td>\n",
       "    </tr>\n",
       "    <tr>\n",
       "      <th>8250</th>\n",
       "      <td>upton</td>\n",
       "      <td>Wyoming</td>\n",
       "      <td>888</td>\n",
       "      <td>1</td>\n",
       "    </tr>\n",
       "    <tr>\n",
       "      <th>8251</th>\n",
       "      <td>wheatland</td>\n",
       "      <td>Wyoming</td>\n",
       "      <td>3509</td>\n",
       "      <td>3</td>\n",
       "    </tr>\n",
       "    <tr>\n",
       "      <th>8252</th>\n",
       "      <td>worland</td>\n",
       "      <td>Wyoming</td>\n",
       "      <td>4785</td>\n",
       "      <td>2</td>\n",
       "    </tr>\n",
       "    <tr>\n",
       "      <th>8253</th>\n",
       "      <td>laramie</td>\n",
       "      <td>Wyoming</td>\n",
       "      <td>100984</td>\n",
       "      <td>5</td>\n",
       "    </tr>\n",
       "    <tr>\n",
       "      <th>8254</th>\n",
       "      <td>sheridan</td>\n",
       "      <td>Wyoming</td>\n",
       "      <td>32519</td>\n",
       "      <td>7</td>\n",
       "    </tr>\n",
       "  </tbody>\n",
       "</table>\n",
       "<p>8255 rows × 4 columns</p>\n",
       "</div>"
      ],
      "text/plain": [
       "             NAME   STNAME  POPESTIMATE2023  num_centers\n",
       "0       abbeville  Alabama             2377            2\n",
       "1      adamsville  Alabama             4172            1\n",
       "2         addison  Alabama              667            2\n",
       "3       alabaster  Alabama            34107           11\n",
       "4     albertville  Alabama            23031            9\n",
       "...           ...      ...              ...          ...\n",
       "8250        upton  Wyoming              888            1\n",
       "8251    wheatland  Wyoming             3509            3\n",
       "8252      worland  Wyoming             4785            2\n",
       "8253      laramie  Wyoming           100984            5\n",
       "8254     sheridan  Wyoming            32519            7\n",
       "\n",
       "[8255 rows x 4 columns]"
      ]
     },
     "execution_count": 62,
     "metadata": {},
     "output_type": "execute_result"
    }
   ],
   "source": [
    "pop_treat_merge = pd.merge(city_pop, treat_counts, left_on=['NAME', 'Postal'], right_on=['City', 'State'], how='inner')\n",
    "pop_treat_merge = pop_treat_merge.loc[:, ['NAME', 'STNAME', 'POPESTIMATE2023', 'num_centers']]\n",
    "    \n",
    "pop_treat_merge"
   ]
  },
  {
   "cell_type": "code",
   "execution_count": 63,
   "metadata": {},
   "outputs": [
    {
     "data": {
      "text/html": [
       "<p><strong><pre style='display: inline;'>q3_4</pre></strong> passed! 🌈</p>"
      ],
      "text/plain": [
       "q3_4 results: All test cases passed!"
      ]
     },
     "execution_count": 63,
     "metadata": {},
     "output_type": "execute_result"
    }
   ],
   "source": [
    "grader.check(\"q3_4\")"
   ]
  },
  {
   "cell_type": "markdown",
   "metadata": {},
   "source": [
    "#### Question 3.5"
   ]
  },
  {
   "cell_type": "markdown",
   "metadata": {},
   "source": [
    "To determine the number of treatment centers per capita, we'll need to divide center count by population. There are certain values of one or the other that could cause issues when calculating this quantity. Use the `describe()` method to summarize the quantitative columns in the merged data. "
   ]
  },
  {
   "cell_type": "code",
   "execution_count": 64,
   "metadata": {},
   "outputs": [
    {
     "data": {
      "text/html": [
       "<div>\n",
       "<style scoped>\n",
       "    .dataframe tbody tr th:only-of-type {\n",
       "        vertical-align: middle;\n",
       "    }\n",
       "\n",
       "    .dataframe tbody tr th {\n",
       "        vertical-align: top;\n",
       "    }\n",
       "\n",
       "    .dataframe thead th {\n",
       "        text-align: right;\n",
       "    }\n",
       "</style>\n",
       "<table border=\"1\" class=\"dataframe\">\n",
       "  <thead>\n",
       "    <tr style=\"text-align: right;\">\n",
       "      <th></th>\n",
       "      <th>POPESTIMATE2023</th>\n",
       "      <th>num_centers</th>\n",
       "    </tr>\n",
       "  </thead>\n",
       "  <tbody>\n",
       "    <tr>\n",
       "      <th>count</th>\n",
       "      <td>8.255000e+03</td>\n",
       "      <td>8255.000000</td>\n",
       "    </tr>\n",
       "    <tr>\n",
       "      <th>mean</th>\n",
       "      <td>3.936527e+04</td>\n",
       "      <td>7.217202</td>\n",
       "    </tr>\n",
       "    <tr>\n",
       "      <th>std</th>\n",
       "      <td>2.938055e+05</td>\n",
       "      <td>21.746751</td>\n",
       "    </tr>\n",
       "    <tr>\n",
       "      <th>min</th>\n",
       "      <td>0.000000e+00</td>\n",
       "      <td>1.000000</td>\n",
       "    </tr>\n",
       "    <tr>\n",
       "      <th>25%</th>\n",
       "      <td>2.432500e+03</td>\n",
       "      <td>1.000000</td>\n",
       "    </tr>\n",
       "    <tr>\n",
       "      <th>50%</th>\n",
       "      <td>7.364000e+03</td>\n",
       "      <td>3.000000</td>\n",
       "    </tr>\n",
       "    <tr>\n",
       "      <th>75%</th>\n",
       "      <td>2.294950e+04</td>\n",
       "      <td>6.000000</td>\n",
       "    </tr>\n",
       "    <tr>\n",
       "      <th>max</th>\n",
       "      <td>1.957122e+07</td>\n",
       "      <td>529.000000</td>\n",
       "    </tr>\n",
       "  </tbody>\n",
       "</table>\n",
       "</div>"
      ],
      "text/plain": [
       "       POPESTIMATE2023  num_centers\n",
       "count     8.255000e+03  8255.000000\n",
       "mean      3.936527e+04     7.217202\n",
       "std       2.938055e+05    21.746751\n",
       "min       0.000000e+00     1.000000\n",
       "25%       2.432500e+03     1.000000\n",
       "50%       7.364000e+03     3.000000\n",
       "75%       2.294950e+04     6.000000\n",
       "max       1.957122e+07   529.000000"
      ]
     },
     "execution_count": 64,
     "metadata": {},
     "output_type": "execute_result"
    }
   ],
   "source": [
    "# Describe\n",
    "pop_treat_merge.describe()"
   ]
  },
  {
   "cell_type": "code",
   "execution_count": 65,
   "metadata": {},
   "outputs": [
    {
     "data": {
      "text/html": [
       "<div>\n",
       "<style scoped>\n",
       "    .dataframe tbody tr th:only-of-type {\n",
       "        vertical-align: middle;\n",
       "    }\n",
       "\n",
       "    .dataframe tbody tr th {\n",
       "        vertical-align: top;\n",
       "    }\n",
       "\n",
       "    .dataframe thead th {\n",
       "        text-align: right;\n",
       "    }\n",
       "</style>\n",
       "<table border=\"1\" class=\"dataframe\">\n",
       "  <thead>\n",
       "    <tr style=\"text-align: right;\">\n",
       "      <th></th>\n",
       "      <th>NAME</th>\n",
       "      <th>STNAME</th>\n",
       "      <th>POPESTIMATE2023</th>\n",
       "      <th>num_centers</th>\n",
       "    </tr>\n",
       "  </thead>\n",
       "  <tbody>\n",
       "    <tr>\n",
       "      <th>296</th>\n",
       "      <td>phoenix</td>\n",
       "      <td>Arizona</td>\n",
       "      <td>1650070</td>\n",
       "      <td>208</td>\n",
       "    </tr>\n",
       "    <tr>\n",
       "      <th>712</th>\n",
       "      <td>los angeles</td>\n",
       "      <td>California</td>\n",
       "      <td>3820914</td>\n",
       "      <td>359</td>\n",
       "    </tr>\n",
       "    <tr>\n",
       "      <th>927</th>\n",
       "      <td>los angeles</td>\n",
       "      <td>California</td>\n",
       "      <td>9663345</td>\n",
       "      <td>359</td>\n",
       "    </tr>\n",
       "    <tr>\n",
       "      <th>1357</th>\n",
       "      <td>miami</td>\n",
       "      <td>Florida</td>\n",
       "      <td>455924</td>\n",
       "      <td>299</td>\n",
       "    </tr>\n",
       "    <tr>\n",
       "      <th>1383</th>\n",
       "      <td>orlando</td>\n",
       "      <td>Florida</td>\n",
       "      <td>320742</td>\n",
       "      <td>210</td>\n",
       "    </tr>\n",
       "    <tr>\n",
       "      <th>1431</th>\n",
       "      <td>tampa</td>\n",
       "      <td>Florida</td>\n",
       "      <td>403364</td>\n",
       "      <td>215</td>\n",
       "    </tr>\n",
       "    <tr>\n",
       "      <th>1889</th>\n",
       "      <td>chicago</td>\n",
       "      <td>Illinois</td>\n",
       "      <td>2664452</td>\n",
       "      <td>343</td>\n",
       "    </tr>\n",
       "    <tr>\n",
       "      <th>2076</th>\n",
       "      <td>chicago</td>\n",
       "      <td>Illinois</td>\n",
       "      <td>0</td>\n",
       "      <td>343</td>\n",
       "    </tr>\n",
       "    <tr>\n",
       "      <th>4607</th>\n",
       "      <td>las vegas</td>\n",
       "      <td>Nevada</td>\n",
       "      <td>660929</td>\n",
       "      <td>256</td>\n",
       "    </tr>\n",
       "    <tr>\n",
       "      <th>4793</th>\n",
       "      <td>new york</td>\n",
       "      <td>New York</td>\n",
       "      <td>19571216</td>\n",
       "      <td>529</td>\n",
       "    </tr>\n",
       "    <tr>\n",
       "      <th>4827</th>\n",
       "      <td>new york</td>\n",
       "      <td>New York</td>\n",
       "      <td>8258035</td>\n",
       "      <td>529</td>\n",
       "    </tr>\n",
       "    <tr>\n",
       "      <th>4863</th>\n",
       "      <td>bronx</td>\n",
       "      <td>New York</td>\n",
       "      <td>1356476</td>\n",
       "      <td>428</td>\n",
       "    </tr>\n",
       "    <tr>\n",
       "      <th>4971</th>\n",
       "      <td>new york</td>\n",
       "      <td>New York</td>\n",
       "      <td>1597451</td>\n",
       "      <td>529</td>\n",
       "    </tr>\n",
       "    <tr>\n",
       "      <th>6065</th>\n",
       "      <td>philadelphia</td>\n",
       "      <td>Pennsylvania</td>\n",
       "      <td>1550542</td>\n",
       "      <td>373</td>\n",
       "    </tr>\n",
       "    <tr>\n",
       "      <th>6718</th>\n",
       "      <td>dallas</td>\n",
       "      <td>Texas</td>\n",
       "      <td>1302868</td>\n",
       "      <td>229</td>\n",
       "    </tr>\n",
       "    <tr>\n",
       "      <th>6828</th>\n",
       "      <td>houston</td>\n",
       "      <td>Texas</td>\n",
       "      <td>2314157</td>\n",
       "      <td>514</td>\n",
       "    </tr>\n",
       "    <tr>\n",
       "      <th>7032</th>\n",
       "      <td>san antonio</td>\n",
       "      <td>Texas</td>\n",
       "      <td>1495295</td>\n",
       "      <td>312</td>\n",
       "    </tr>\n",
       "    <tr>\n",
       "      <th>7155</th>\n",
       "      <td>dallas</td>\n",
       "      <td>Texas</td>\n",
       "      <td>2606358</td>\n",
       "      <td>229</td>\n",
       "    </tr>\n",
       "    <tr>\n",
       "      <th>7169</th>\n",
       "      <td>houston</td>\n",
       "      <td>Texas</td>\n",
       "      <td>22066</td>\n",
       "      <td>514</td>\n",
       "    </tr>\n",
       "  </tbody>\n",
       "</table>\n",
       "</div>"
      ],
      "text/plain": [
       "              NAME        STNAME  POPESTIMATE2023  num_centers\n",
       "296        phoenix       Arizona          1650070          208\n",
       "712    los angeles    California          3820914          359\n",
       "927    los angeles    California          9663345          359\n",
       "1357         miami       Florida           455924          299\n",
       "1383       orlando       Florida           320742          210\n",
       "1431         tampa       Florida           403364          215\n",
       "1889       chicago      Illinois          2664452          343\n",
       "2076       chicago      Illinois                0          343\n",
       "4607     las vegas        Nevada           660929          256\n",
       "4793      new york      New York         19571216          529\n",
       "4827      new york      New York          8258035          529\n",
       "4863         bronx      New York          1356476          428\n",
       "4971      new york      New York          1597451          529\n",
       "6065  philadelphia  Pennsylvania          1550542          373\n",
       "6718        dallas         Texas          1302868          229\n",
       "6828       houston         Texas          2314157          514\n",
       "7032   san antonio         Texas          1495295          312\n",
       "7155        dallas         Texas          2606358          229\n",
       "7169       houston         Texas            22066          514"
      ]
     },
     "execution_count": 65,
     "metadata": {},
     "output_type": "execute_result"
    }
   ],
   "source": [
    "pop_treat_merge.query('num_centers>200')"
   ]
  },
  {
   "cell_type": "markdown",
   "metadata": {},
   "source": [
    "If you identify any issues, filter the data to remove those values. Then create a new column called \"centers_per_cap\" in pop_treat_merge, representing the number of centers per capita in each town/city."
   ]
  },
  {
   "cell_type": "code",
   "execution_count": 66,
   "metadata": {},
   "outputs": [
    {
     "data": {
      "text/html": [
       "<div>\n",
       "<style scoped>\n",
       "    .dataframe tbody tr th:only-of-type {\n",
       "        vertical-align: middle;\n",
       "    }\n",
       "\n",
       "    .dataframe tbody tr th {\n",
       "        vertical-align: top;\n",
       "    }\n",
       "\n",
       "    .dataframe thead th {\n",
       "        text-align: right;\n",
       "    }\n",
       "</style>\n",
       "<table border=\"1\" class=\"dataframe\">\n",
       "  <thead>\n",
       "    <tr style=\"text-align: right;\">\n",
       "      <th></th>\n",
       "      <th>NAME</th>\n",
       "      <th>STNAME</th>\n",
       "      <th>POPESTIMATE2023</th>\n",
       "      <th>num_centers</th>\n",
       "    </tr>\n",
       "  </thead>\n",
       "  <tbody>\n",
       "    <tr>\n",
       "      <th>0</th>\n",
       "      <td>abbeville</td>\n",
       "      <td>Alabama</td>\n",
       "      <td>2377</td>\n",
       "      <td>2</td>\n",
       "    </tr>\n",
       "    <tr>\n",
       "      <th>1</th>\n",
       "      <td>adamsville</td>\n",
       "      <td>Alabama</td>\n",
       "      <td>4172</td>\n",
       "      <td>1</td>\n",
       "    </tr>\n",
       "    <tr>\n",
       "      <th>2</th>\n",
       "      <td>addison</td>\n",
       "      <td>Alabama</td>\n",
       "      <td>667</td>\n",
       "      <td>2</td>\n",
       "    </tr>\n",
       "    <tr>\n",
       "      <th>3</th>\n",
       "      <td>alabaster</td>\n",
       "      <td>Alabama</td>\n",
       "      <td>34107</td>\n",
       "      <td>11</td>\n",
       "    </tr>\n",
       "    <tr>\n",
       "      <th>4</th>\n",
       "      <td>albertville</td>\n",
       "      <td>Alabama</td>\n",
       "      <td>23031</td>\n",
       "      <td>9</td>\n",
       "    </tr>\n",
       "    <tr>\n",
       "      <th>...</th>\n",
       "      <td>...</td>\n",
       "      <td>...</td>\n",
       "      <td>...</td>\n",
       "      <td>...</td>\n",
       "    </tr>\n",
       "    <tr>\n",
       "      <th>8250</th>\n",
       "      <td>upton</td>\n",
       "      <td>Wyoming</td>\n",
       "      <td>888</td>\n",
       "      <td>1</td>\n",
       "    </tr>\n",
       "    <tr>\n",
       "      <th>8251</th>\n",
       "      <td>wheatland</td>\n",
       "      <td>Wyoming</td>\n",
       "      <td>3509</td>\n",
       "      <td>3</td>\n",
       "    </tr>\n",
       "    <tr>\n",
       "      <th>8252</th>\n",
       "      <td>worland</td>\n",
       "      <td>Wyoming</td>\n",
       "      <td>4785</td>\n",
       "      <td>2</td>\n",
       "    </tr>\n",
       "    <tr>\n",
       "      <th>8253</th>\n",
       "      <td>laramie</td>\n",
       "      <td>Wyoming</td>\n",
       "      <td>100984</td>\n",
       "      <td>5</td>\n",
       "    </tr>\n",
       "    <tr>\n",
       "      <th>8254</th>\n",
       "      <td>sheridan</td>\n",
       "      <td>Wyoming</td>\n",
       "      <td>32519</td>\n",
       "      <td>7</td>\n",
       "    </tr>\n",
       "  </tbody>\n",
       "</table>\n",
       "<p>8233 rows × 4 columns</p>\n",
       "</div>"
      ],
      "text/plain": [
       "             NAME   STNAME  POPESTIMATE2023  num_centers\n",
       "0       abbeville  Alabama             2377            2\n",
       "1      adamsville  Alabama             4172            1\n",
       "2         addison  Alabama              667            2\n",
       "3       alabaster  Alabama            34107           11\n",
       "4     albertville  Alabama            23031            9\n",
       "...           ...      ...              ...          ...\n",
       "8250        upton  Wyoming              888            1\n",
       "8251    wheatland  Wyoming             3509            3\n",
       "8252      worland  Wyoming             4785            2\n",
       "8253      laramie  Wyoming           100984            5\n",
       "8254     sheridan  Wyoming            32519            7\n",
       "\n",
       "[8233 rows x 4 columns]"
      ]
     },
     "execution_count": 66,
     "metadata": {},
     "output_type": "execute_result"
    }
   ],
   "source": [
    "# Correct any issues if relevant\n",
    "# Remove cities with population of zero\n",
    "pop_treat_merge = pop_treat_merge.query('POPESTIMATE2023>0')\n",
    "pop_treat_merge"
   ]
  },
  {
   "cell_type": "code",
   "execution_count": 67,
   "metadata": {},
   "outputs": [
    {
     "name": "stderr",
     "output_type": "stream",
     "text": [
      "C:\\Users\\madel\\AppData\\Local\\Temp\\ipykernel_38128\\3885232668.py:1: SettingWithCopyWarning: \n",
      "A value is trying to be set on a copy of a slice from a DataFrame.\n",
      "Try using .loc[row_indexer,col_indexer] = value instead\n",
      "\n",
      "See the caveats in the documentation: https://pandas.pydata.org/pandas-docs/stable/user_guide/indexing.html#returning-a-view-versus-a-copy\n",
      "  pop_treat_merge['centers_per_cap'] = pop_treat_merge['num_centers'] / pop_treat_merge['POPESTIMATE2023']\n"
     ]
    },
    {
     "data": {
      "text/html": [
       "<div>\n",
       "<style scoped>\n",
       "    .dataframe tbody tr th:only-of-type {\n",
       "        vertical-align: middle;\n",
       "    }\n",
       "\n",
       "    .dataframe tbody tr th {\n",
       "        vertical-align: top;\n",
       "    }\n",
       "\n",
       "    .dataframe thead th {\n",
       "        text-align: right;\n",
       "    }\n",
       "</style>\n",
       "<table border=\"1\" class=\"dataframe\">\n",
       "  <thead>\n",
       "    <tr style=\"text-align: right;\">\n",
       "      <th></th>\n",
       "      <th>NAME</th>\n",
       "      <th>STNAME</th>\n",
       "      <th>POPESTIMATE2023</th>\n",
       "      <th>num_centers</th>\n",
       "      <th>centers_per_cap</th>\n",
       "    </tr>\n",
       "  </thead>\n",
       "  <tbody>\n",
       "    <tr>\n",
       "      <th>0</th>\n",
       "      <td>abbeville</td>\n",
       "      <td>Alabama</td>\n",
       "      <td>2377</td>\n",
       "      <td>2</td>\n",
       "      <td>0.000841</td>\n",
       "    </tr>\n",
       "    <tr>\n",
       "      <th>1</th>\n",
       "      <td>adamsville</td>\n",
       "      <td>Alabama</td>\n",
       "      <td>4172</td>\n",
       "      <td>1</td>\n",
       "      <td>0.000240</td>\n",
       "    </tr>\n",
       "    <tr>\n",
       "      <th>2</th>\n",
       "      <td>addison</td>\n",
       "      <td>Alabama</td>\n",
       "      <td>667</td>\n",
       "      <td>2</td>\n",
       "      <td>0.002999</td>\n",
       "    </tr>\n",
       "    <tr>\n",
       "      <th>3</th>\n",
       "      <td>alabaster</td>\n",
       "      <td>Alabama</td>\n",
       "      <td>34107</td>\n",
       "      <td>11</td>\n",
       "      <td>0.000323</td>\n",
       "    </tr>\n",
       "    <tr>\n",
       "      <th>4</th>\n",
       "      <td>albertville</td>\n",
       "      <td>Alabama</td>\n",
       "      <td>23031</td>\n",
       "      <td>9</td>\n",
       "      <td>0.000391</td>\n",
       "    </tr>\n",
       "    <tr>\n",
       "      <th>...</th>\n",
       "      <td>...</td>\n",
       "      <td>...</td>\n",
       "      <td>...</td>\n",
       "      <td>...</td>\n",
       "      <td>...</td>\n",
       "    </tr>\n",
       "    <tr>\n",
       "      <th>8250</th>\n",
       "      <td>upton</td>\n",
       "      <td>Wyoming</td>\n",
       "      <td>888</td>\n",
       "      <td>1</td>\n",
       "      <td>0.001126</td>\n",
       "    </tr>\n",
       "    <tr>\n",
       "      <th>8251</th>\n",
       "      <td>wheatland</td>\n",
       "      <td>Wyoming</td>\n",
       "      <td>3509</td>\n",
       "      <td>3</td>\n",
       "      <td>0.000855</td>\n",
       "    </tr>\n",
       "    <tr>\n",
       "      <th>8252</th>\n",
       "      <td>worland</td>\n",
       "      <td>Wyoming</td>\n",
       "      <td>4785</td>\n",
       "      <td>2</td>\n",
       "      <td>0.000418</td>\n",
       "    </tr>\n",
       "    <tr>\n",
       "      <th>8253</th>\n",
       "      <td>laramie</td>\n",
       "      <td>Wyoming</td>\n",
       "      <td>100984</td>\n",
       "      <td>5</td>\n",
       "      <td>0.000050</td>\n",
       "    </tr>\n",
       "    <tr>\n",
       "      <th>8254</th>\n",
       "      <td>sheridan</td>\n",
       "      <td>Wyoming</td>\n",
       "      <td>32519</td>\n",
       "      <td>7</td>\n",
       "      <td>0.000215</td>\n",
       "    </tr>\n",
       "  </tbody>\n",
       "</table>\n",
       "<p>8233 rows × 5 columns</p>\n",
       "</div>"
      ],
      "text/plain": [
       "             NAME   STNAME  POPESTIMATE2023  num_centers  centers_per_cap\n",
       "0       abbeville  Alabama             2377            2         0.000841\n",
       "1      adamsville  Alabama             4172            1         0.000240\n",
       "2         addison  Alabama              667            2         0.002999\n",
       "3       alabaster  Alabama            34107           11         0.000323\n",
       "4     albertville  Alabama            23031            9         0.000391\n",
       "...           ...      ...              ...          ...              ...\n",
       "8250        upton  Wyoming              888            1         0.001126\n",
       "8251    wheatland  Wyoming             3509            3         0.000855\n",
       "8252      worland  Wyoming             4785            2         0.000418\n",
       "8253      laramie  Wyoming           100984            5         0.000050\n",
       "8254     sheridan  Wyoming            32519            7         0.000215\n",
       "\n",
       "[8233 rows x 5 columns]"
      ]
     },
     "execution_count": 67,
     "metadata": {},
     "output_type": "execute_result"
    }
   ],
   "source": [
    "pop_treat_merge['centers_per_cap'] = pop_treat_merge['num_centers'] / pop_treat_merge['POPESTIMATE2023']\n",
    "pop_treat_merge"
   ]
  },
  {
   "cell_type": "code",
   "execution_count": 68,
   "metadata": {},
   "outputs": [
    {
     "data": {
      "text/html": [
       "<p><strong><pre style='display: inline;'>q3_5</pre></strong> passed! 🌟</p>"
      ],
      "text/plain": [
       "q3_5 results: All test cases passed!"
      ]
     },
     "execution_count": 68,
     "metadata": {},
     "output_type": "execute_result"
    }
   ],
   "source": [
    "grader.check(\"q3_5\")"
   ]
  },
  {
   "cell_type": "markdown",
   "metadata": {},
   "source": [
    "#### Question 3.6\n",
    "\n",
    "Identify the five cities with the highest number of treatment cities per capita."
   ]
  },
  {
   "cell_type": "code",
   "execution_count": 69,
   "metadata": {},
   "outputs": [
    {
     "data": {
      "text/html": [
       "<div>\n",
       "<style scoped>\n",
       "    .dataframe tbody tr th:only-of-type {\n",
       "        vertical-align: middle;\n",
       "    }\n",
       "\n",
       "    .dataframe tbody tr th {\n",
       "        vertical-align: top;\n",
       "    }\n",
       "\n",
       "    .dataframe thead th {\n",
       "        text-align: right;\n",
       "    }\n",
       "</style>\n",
       "<table border=\"1\" class=\"dataframe\">\n",
       "  <thead>\n",
       "    <tr style=\"text-align: right;\">\n",
       "      <th></th>\n",
       "      <th>NAME</th>\n",
       "      <th>STNAME</th>\n",
       "      <th>POPESTIMATE2023</th>\n",
       "      <th>num_centers</th>\n",
       "      <th>centers_per_cap</th>\n",
       "    </tr>\n",
       "  </thead>\n",
       "  <tbody>\n",
       "    <tr>\n",
       "      <th>5719</th>\n",
       "      <td>youngstown</td>\n",
       "      <td>Ohio</td>\n",
       "      <td>1</td>\n",
       "      <td>23</td>\n",
       "      <td>23.0</td>\n",
       "    </tr>\n",
       "    <tr>\n",
       "      <th>3685</th>\n",
       "      <td>lansing</td>\n",
       "      <td>Michigan</td>\n",
       "      <td>6</td>\n",
       "      <td>36</td>\n",
       "      <td>6.0</td>\n",
       "    </tr>\n",
       "    <tr>\n",
       "      <th>2692</th>\n",
       "      <td>manhattan</td>\n",
       "      <td>Kansas</td>\n",
       "      <td>8</td>\n",
       "      <td>16</td>\n",
       "      <td>2.0</td>\n",
       "    </tr>\n",
       "    <tr>\n",
       "      <th>3979</th>\n",
       "      <td>mankato</td>\n",
       "      <td>Minnesota</td>\n",
       "      <td>5</td>\n",
       "      <td>9</td>\n",
       "      <td>1.8</td>\n",
       "    </tr>\n",
       "    <tr>\n",
       "      <th>5676</th>\n",
       "      <td>bellevue</td>\n",
       "      <td>Ohio</td>\n",
       "      <td>2</td>\n",
       "      <td>3</td>\n",
       "      <td>1.5</td>\n",
       "    </tr>\n",
       "  </tbody>\n",
       "</table>\n",
       "</div>"
      ],
      "text/plain": [
       "            NAME     STNAME  POPESTIMATE2023  num_centers  centers_per_cap\n",
       "5719  youngstown       Ohio                1           23             23.0\n",
       "3685     lansing   Michigan                6           36              6.0\n",
       "2692   manhattan     Kansas                8           16              2.0\n",
       "3979     mankato  Minnesota                5            9              1.8\n",
       "5676    bellevue       Ohio                2            3              1.5"
      ]
     },
     "execution_count": 69,
     "metadata": {},
     "output_type": "execute_result"
    }
   ],
   "source": [
    "pop_treat_merge.sort_values('centers_per_cap', ascending=False).head(5)"
   ]
  },
  {
   "cell_type": "markdown",
   "metadata": {},
   "source": [
    "Do you think your findings are valid? Why or why not?"
   ]
  },
  {
   "cell_type": "markdown",
   "metadata": {},
   "source": [
    "**Your response**: No, these results do not seem valid because these five cities have unrealistically low recorded population counts. This artificially inflates the centers per capita statistic for these cities."
   ]
  },
  {
   "cell_type": "markdown",
   "metadata": {},
   "source": [
    "#### Question 3.7\n",
    "\n",
    "Filter the data for only population estimates above or equal to 1000, then again identify the top 5 cities. Return the answer as an array or series. "
   ]
  },
  {
   "cell_type": "code",
   "execution_count": 70,
   "metadata": {},
   "outputs": [
    {
     "data": {
      "text/html": [
       "<div>\n",
       "<style scoped>\n",
       "    .dataframe tbody tr th:only-of-type {\n",
       "        vertical-align: middle;\n",
       "    }\n",
       "\n",
       "    .dataframe tbody tr th {\n",
       "        vertical-align: top;\n",
       "    }\n",
       "\n",
       "    .dataframe thead th {\n",
       "        text-align: right;\n",
       "    }\n",
       "</style>\n",
       "<table border=\"1\" class=\"dataframe\">\n",
       "  <thead>\n",
       "    <tr style=\"text-align: right;\">\n",
       "      <th></th>\n",
       "      <th>NAME</th>\n",
       "      <th>STNAME</th>\n",
       "      <th>POPESTIMATE2023</th>\n",
       "      <th>num_centers</th>\n",
       "      <th>centers_per_cap</th>\n",
       "    </tr>\n",
       "  </thead>\n",
       "  <tbody>\n",
       "    <tr>\n",
       "      <th>2698</th>\n",
       "      <td>wichita</td>\n",
       "      <td>Kansas</td>\n",
       "      <td>2082</td>\n",
       "      <td>83</td>\n",
       "      <td>0.039866</td>\n",
       "    </tr>\n",
       "    <tr>\n",
       "      <th>7169</th>\n",
       "      <td>houston</td>\n",
       "      <td>Texas</td>\n",
       "      <td>22066</td>\n",
       "      <td>514</td>\n",
       "      <td>0.023294</td>\n",
       "    </tr>\n",
       "    <tr>\n",
       "      <th>8206</th>\n",
       "      <td>appleton</td>\n",
       "      <td>Wisconsin</td>\n",
       "      <td>1417</td>\n",
       "      <td>22</td>\n",
       "      <td>0.015526</td>\n",
       "    </tr>\n",
       "    <tr>\n",
       "      <th>5679</th>\n",
       "      <td>columbus</td>\n",
       "      <td>Ohio</td>\n",
       "      <td>11314</td>\n",
       "      <td>148</td>\n",
       "      <td>0.013081</td>\n",
       "    </tr>\n",
       "    <tr>\n",
       "      <th>7996</th>\n",
       "      <td>green bay</td>\n",
       "      <td>Wisconsin</td>\n",
       "      <td>2207</td>\n",
       "      <td>24</td>\n",
       "      <td>0.010874</td>\n",
       "    </tr>\n",
       "  </tbody>\n",
       "</table>\n",
       "</div>"
      ],
      "text/plain": [
       "           NAME     STNAME  POPESTIMATE2023  num_centers  centers_per_cap\n",
       "2698    wichita     Kansas             2082           83         0.039866\n",
       "7169    houston      Texas            22066          514         0.023294\n",
       "8206   appleton  Wisconsin             1417           22         0.015526\n",
       "5679   columbus       Ohio            11314          148         0.013081\n",
       "7996  green bay  Wisconsin             2207           24         0.010874"
      ]
     },
     "execution_count": 70,
     "metadata": {},
     "output_type": "execute_result"
    }
   ],
   "source": [
    "pop_treat_merge = pop_treat_merge.query('POPESTIMATE2023>=1000').sort_values('centers_per_cap', ascending=False).head(5)\n",
    "pop_treat_merge"
   ]
  },
  {
   "cell_type": "code",
   "execution_count": 71,
   "metadata": {},
   "outputs": [
    {
     "data": {
      "text/plain": [
       "2698      wichita\n",
       "7169      houston\n",
       "8206     appleton\n",
       "5679     columbus\n",
       "7996    green bay\n",
       "Name: NAME, dtype: object"
      ]
     },
     "execution_count": 71,
     "metadata": {},
     "output_type": "execute_result"
    }
   ],
   "source": [
    "top_cities = pop_treat_merge['NAME'][:5]\n",
    "top_cities"
   ]
  },
  {
   "cell_type": "code",
   "execution_count": 72,
   "metadata": {},
   "outputs": [
    {
     "data": {
      "text/html": [
       "<p><strong><pre style='display: inline;'>q3_7</pre></strong> passed! 🍀</p>"
      ],
      "text/plain": [
       "q3_7 results: All test cases passed!"
      ]
     },
     "execution_count": 72,
     "metadata": {},
     "output_type": "execute_result"
    }
   ],
   "source": [
    "grader.check(\"q3_7\")"
   ]
  },
  {
   "cell_type": "markdown",
   "metadata": {
    "deletable": true,
    "editable": true
   },
   "source": [
    "---\n",
    "\n",
    "To double-check your work, the cell below will rerun all of the autograder tests."
   ]
  },
  {
   "cell_type": "code",
   "execution_count": 73,
   "metadata": {
    "deletable": true,
    "editable": true
   },
   "outputs": [
    {
     "data": {
      "text/plain": [
       "q1_1 results: All test cases passed!\n",
       "\n",
       "q1_2 results: All test cases passed!\n",
       "\n",
       "q1_3a results: All test cases passed!\n",
       "\n",
       "q1_3b results: All test cases passed!\n",
       "\n",
       "q1_4 results: All test cases passed!\n",
       "\n",
       "q1_5 results: All test cases passed!\n",
       "\n",
       "q1_7 results: All test cases passed!\n",
       "\n",
       "q2_1 results: All test cases passed!\n",
       "\n",
       "q2_2 results: All test cases passed!\n",
       "\n",
       "q2_4 results: All test cases passed!\n",
       "\n",
       "q2_5 results: All test cases passed!\n",
       "\n",
       "q3_1 results: All test cases passed!\n",
       "\n",
       "q3_2 results: All test cases passed!\n",
       "\n",
       "q3_3 results: All test cases passed!\n",
       "\n",
       "q3_4 results: All test cases passed!\n",
       "\n",
       "q3_5 results: All test cases passed!\n",
       "\n",
       "q3_7 results: All test cases passed!"
      ]
     },
     "execution_count": 73,
     "metadata": {},
     "output_type": "execute_result"
    }
   ],
   "source": [
    "grader.check_all()"
   ]
  },
  {
   "cell_type": "markdown",
   "metadata": {
    "deletable": true,
    "editable": true
   },
   "source": [
    "## Submission\n",
    "\n",
    "Make sure you have run all cells in your notebook in order. Then execute the following two commands from the File menu:\n",
    "\n",
    " - Save and Checkpoint\n",
    "\n",
    " - Close and Halt\n",
    "\n",
    "Then upload your .ipynb file to Canvas assignment Homework 2"
   ]
  },
  {
   "cell_type": "markdown",
   "metadata": {},
   "source": [
    " "
   ]
  },
  {
   "cell_type": "code",
   "execution_count": null,
   "metadata": {},
   "outputs": [],
   "source": []
  }
 ],
 "metadata": {
  "anaconda-cloud": {},
  "celltoolbar": "Raw Cell Format",
  "kernelspec": {
   "display_name": "Python 3 (ipykernel)",
   "language": "python",
   "name": "python3"
  },
  "language_info": {
   "codemirror_mode": {
    "name": "ipython",
    "version": 3
   },
   "file_extension": ".py",
   "mimetype": "text/x-python",
   "name": "python",
   "nbconvert_exporter": "python",
   "pygments_lexer": "ipython3",
   "version": "3.12.4"
  }
 },
 "nbformat": 4,
 "nbformat_minor": 4
}
